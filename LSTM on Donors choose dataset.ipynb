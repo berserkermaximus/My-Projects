{
 "cells": [
  {
   "cell_type": "code",
   "execution_count": 1,
   "metadata": {
    "colab": {
     "base_uri": "https://localhost:8080/",
     "height": 35
    },
    "colab_type": "code",
    "id": "MNnkuzD6hGKt",
    "outputId": "c95edce9-ea31-4cf2-8ba5-e1b15eb6da6f"
   },
   "outputs": [
    {
     "name": "stderr",
     "output_type": "stream",
     "text": [
      "Using TensorFlow backend.\n"
     ]
    }
   ],
   "source": [
    "import pandas as pd\n",
    "import numpy as np\n",
    "import matplotlib.pyplot as plt\n",
    "from tqdm import tqdm\n",
    "import pickle\n",
    "from collections import Counter\n",
    "from sklearn.preprocessing import StandardScaler\n",
    "from sklearn.feature_extraction.text import CountVectorizer\n",
    "from sklearn.feature_extraction.text import TfidfVectorizer\n",
    "from sklearn.metrics import auc,roc_auc_score,roc_curve,confusion_matrix\n",
    "import tensorflow as tf\n",
    "from keras.preprocessing import sequence\n",
    "import gc\n",
    "gc.enable()"
   ]
  },
  {
   "cell_type": "code",
   "execution_count": 2,
   "metadata": {
    "colab": {
     "base_uri": "https://localhost:8080/",
     "height": 124
    },
    "colab_type": "code",
    "id": "kLFLeYzePRYn",
    "outputId": "da6dc092-dffc-480d-aa03-7c049b5aa7e3"
   },
   "outputs": [
    {
     "name": "stdout",
     "output_type": "stream",
     "text": [
      "Go to this URL in a browser: https://accounts.google.com/o/oauth2/auth?client_id=947318989803-6bn6qk8qdgf4n4g3pfee6491hc0brc4i.apps.googleusercontent.com&redirect_uri=urn%3Aietf%3Awg%3Aoauth%3A2.0%3Aoob&scope=email%20https%3A%2F%2Fwww.googleapis.com%2Fauth%2Fdocs.test%20https%3A%2F%2Fwww.googleapis.com%2Fauth%2Fdrive%20https%3A%2F%2Fwww.googleapis.com%2Fauth%2Fdrive.photos.readonly%20https%3A%2F%2Fwww.googleapis.com%2Fauth%2Fpeopleapi.readonly&response_type=code\n",
      "\n",
      "Enter your authorization code:\n",
      "··········\n",
      "Mounted at /content/gdrive\n"
     ]
    }
   ],
   "source": [
    "from google.colab import drive\n",
    "drive.mount('/content/gdrive')"
   ]
  },
  {
   "cell_type": "code",
   "execution_count": 0,
   "metadata": {
    "colab": {},
    "colab_type": "code",
    "id": "a0NtaHzRUfjI"
   },
   "outputs": [],
   "source": [
    "raw_data = pd.read_csv(\"gdrive/My Drive/train_data.csv\")\n",
    "resource_data = pd.read_csv(\"gdrive/My Drive/resources.csv\")"
   ]
  },
  {
   "cell_type": "code",
   "execution_count": 0,
   "metadata": {
    "colab": {},
    "colab_type": "code",
    "id": "ehHA8emXWgrV"
   },
   "outputs": [],
   "source": [
    "temp_data = resource_data.groupby('id').agg({'price':'sum', 'quantity':'sum'}).reset_index()\n",
    "raw_data = pd.merge(raw_data, temp_data, on='id', how='left')"
   ]
  },
  {
   "cell_type": "code",
   "execution_count": 0,
   "metadata": {
    "colab": {},
    "colab_type": "code",
    "id": "Xp3TOiL2XHXG"
   },
   "outputs": [],
   "source": [
    "with open('gdrive/My Drive/glove_vectors','rb') as f:\n",
    "  model = pickle.load(f)\n",
    "  glove_words = set(model.keys())"
   ]
  },
  {
   "cell_type": "code",
   "execution_count": 6,
   "metadata": {
    "colab": {
     "base_uri": "https://localhost:8080/",
     "height": 173
    },
    "colab_type": "code",
    "id": "QzALgWkGXaU8",
    "outputId": "ab686e3a-3e3c-4ba1-dcbb-5cdb111dea5f"
   },
   "outputs": [
    {
     "name": "stdout",
     "output_type": "stream",
     "text": [
      "Index(['Unnamed: 0', 'id', 'teacher_id', 'teacher_prefix', 'school_state',\n",
      "       'project_submitted_datetime', 'project_grade_category',\n",
      "       'project_subject_categories', 'project_subject_subcategories',\n",
      "       'project_title', 'project_essay_1', 'project_essay_2',\n",
      "       'project_essay_3', 'project_essay_4', 'project_resource_summary',\n",
      "       'teacher_number_of_previously_posted_projects', 'project_is_approved',\n",
      "       'price', 'quantity'],\n",
      "      dtype='object')\n",
      "Literacy & Language, Math & Science\n"
     ]
    }
   ],
   "source": [
    "print(raw_data.columns)\n",
    "print(raw_data['project_subject_categories'].values[3])"
   ]
  },
  {
   "cell_type": "markdown",
   "metadata": {
    "colab_type": "text",
    "id": "2iD_3cvBYhkL"
   },
   "source": [
    "<h3>Categories and sucategories processing</h3>"
   ]
  },
  {
   "cell_type": "code",
   "execution_count": 0,
   "metadata": {
    "colab": {},
    "colab_type": "code",
    "id": "xMEJvWKcXnQI"
   },
   "outputs": [],
   "source": [
    "categories = list(raw_data['project_subject_categories'].values)\n",
    "final_list = []\n",
    "for i in categories:\n",
    "  temp = ''\n",
    "  for j in i.split(','): #splitting categories by comma ','\n",
    "    j = j.replace(' ','') # replacing the spaces with null string\n",
    "    j = j.replace('&','_') #replacing all the characters which are not alphabets or numbers with null string\n",
    "    j = j.replace('The','')#replace 'The' with null string\n",
    "    j = j.replace('and','_')#replace 'and' with null string\n",
    "  temp = temp + j + \" \"#appending the multiple categories with space\n",
    "  final_list.append(temp.strip())\n",
    "raw_data['categories'] = final_list\n",
    "raw_data.drop('project_subject_categories',axis = 1,inplace= True )"
   ]
  },
  {
   "cell_type": "code",
   "execution_count": 0,
   "metadata": {
    "colab": {},
    "colab_type": "code",
    "id": "tbzL5tjWXqqD"
   },
   "outputs": [],
   "source": [
    "subcategories = list(raw_data['project_subject_subcategories'].values)\n",
    "final_list = []\n",
    "for i in subcategories:\n",
    "    temp = ''\n",
    "    for j in i.split(','): #splitting categories by comma ','\n",
    "        j = j.replace(' ','') # replacing the spaces with null string\n",
    "        j = j.replace('&','_') #replacing all the characters which are not alphabets or numbers with null string\n",
    "        j = j.replace('The','')#replace 'The' with null string\n",
    "        j = j.replace('and','_')#replace 'and' with null string\n",
    "    temp = temp + j + \" \"#appending the multiple categories with space\n",
    "    final_list.append(temp.strip())\n",
    "    \n",
    "raw_data['subcategories'] = final_list\n",
    "raw_data.drop('project_subject_subcategories',axis = 1,inplace= True)"
   ]
  },
  {
   "cell_type": "markdown",
   "metadata": {
    "colab_type": "text",
    "id": "5dm6lx6xYw3y"
   },
   "source": [
    "<h3> Text processing</h3>"
   ]
  },
  {
   "cell_type": "code",
   "execution_count": 0,
   "metadata": {
    "colab": {},
    "colab_type": "code",
    "id": "g-OC9qStX7MQ"
   },
   "outputs": [],
   "source": [
    "raw_data['text'] = raw_data['project_essay_1'].map(str) + \" \" + raw_data['project_essay_2'].map(str) + \" \" + raw_data['project_essay_3'].map(str) + \" \" + raw_data['project_essay_4'].map(str) + \" \" + raw_data['project_title']"
   ]
  },
  {
   "cell_type": "code",
   "execution_count": 0,
   "metadata": {
    "colab": {},
    "colab_type": "code",
    "id": "Wh2ZxXwSYDFa"
   },
   "outputs": [],
   "source": [
    "stopwords= ['i', 'me', 'my', 'myself', 'we', 'our', 'ours', 'ourselves', 'you', \"you're\", \"you've\",\\\n",
    "            \"you'll\", \"you'd\", 'your', 'yours', 'yourself', 'yourselves', 'he', 'him', 'his', 'himself', \\\n",
    "            'she', \"she's\", 'her', 'hers', 'herself', 'it', \"it's\", 'its', 'itself', 'they', 'them', 'their',\\\n",
    "            'theirs', 'themselves', 'what', 'which', 'who', 'whom', 'this', 'that', \"that'll\", 'these', 'those', \\\n",
    "            'am', 'is', 'are', 'was', 'were', 'be', 'been', 'being', 'have', 'has', 'had', 'having', 'do', 'does', \\\n",
    "            'did', 'doing', 'a', 'an', 'the', 'and', 'but', 'if', 'or', 'because', 'as', 'until', 'while', 'of', \\\n",
    "            'at', 'by', 'for', 'with', 'about', 'against', 'between', 'into', 'through', 'during', 'before', 'after',\\\n",
    "            'above', 'below', 'to', 'from', 'up', 'down', 'in', 'out', 'on', 'off', 'over', 'under', 'again', 'further',\\\n",
    "            'then', 'once', 'here', 'there', 'when', 'where', 'why', 'how', 'all', 'any', 'both', 'each', 'few', 'more',\\\n",
    "            'most', 'other', 'some', 'such', 'only', 'own', 'same', 'so', 'than', 'too', 'very', \\\n",
    "            's', 't', 'can', 'will', 'just', 'don', \"don't\", 'should', \"should've\", 'now', 'd', 'll', 'm', 'o', 're', \\\n",
    "            've', 'y', 'ain', 'aren', \"aren't\", 'couldn', \"couldn't\", 'didn', \"didn't\", 'doesn', \"doesn't\", 'hadn',\\\n",
    "            \"hadn't\", 'hasn', \"hasn't\", 'haven', \"haven't\", 'isn', \"isn't\", 'ma', 'mightn', \"mightn't\", 'mustn',\\\n",
    "            \"mustn't\", 'needn', \"needn't\", 'shan', \"shan't\", 'shouldn', \"shouldn't\", 'wasn', \"wasn't\", 'weren', \"weren't\", \\\n",
    "            'won', \"won't\", 'wouldn', \"wouldn't\",\"nan\"]"
   ]
  },
  {
   "cell_type": "code",
   "execution_count": 0,
   "metadata": {
    "colab": {},
    "colab_type": "code",
    "id": "hkF5meDgYFPR"
   },
   "outputs": [],
   "source": [
    "import re\n",
    "\n",
    "def decontracted(phrase):\n",
    "    # specific\n",
    "    phrase = re.sub(r\"won't\", \"will not\", phrase)\n",
    "    phrase = re.sub(r\"can\\'t\", \"can not\", phrase)\n",
    "\n",
    "    # general\n",
    "    phrase = re.sub(r\"n\\'t\", \" not\", phrase)\n",
    "    phrase = re.sub(r\"\\'re\", \" are\", phrase)\n",
    "    phrase = re.sub(r\"\\'s\", \" is\", phrase)\n",
    "    phrase = re.sub(r\"\\'d\", \" would\", phrase)\n",
    "    phrase = re.sub(r\"\\'ll\", \" will\", phrase)\n",
    "    phrase = re.sub(r\"\\'t\", \" not\", phrase)\n",
    "    phrase = re.sub(r\"\\'ve\", \" have\", phrase)\n",
    "    phrase = re.sub(r\"\\'m\", \" am\", phrase)\n",
    "    return phrase"
   ]
  },
  {
   "cell_type": "code",
   "execution_count": 12,
   "metadata": {
    "colab": {
     "base_uri": "https://localhost:8080/",
     "height": 55
    },
    "colab_type": "code",
    "id": "GOaqhJhwYH52",
    "outputId": "826efb3a-de16-4930-c29f-d3b13c061ffc"
   },
   "outputs": [
    {
     "name": "stdout",
     "output_type": "stream",
     "text": [
      "My kindergarten students have varied disabilities ranging from speech and language delays, cognitive delays, gross/fine motor delays, to autism. They are eager beavers and always strive to work their hardest working past their limitations. \\r\\n\\r\\nThe materials we have are the ones I seek out for my students. I teach in a Title I school where most of the students receive free or reduced price lunch.  Despite their disabilities and limitations, my students love coming to school and come eager to learn and explore. Have you ever felt like you had ants in your pants and you needed to groove and move as you were in a meeting? This is how my kids feel all the time. The want to be able to move as they learn or so they say.Wobble chairs are the answer and I love then because they develop their core, which enhances gross motor and in Turn fine motor skills. \\r\\nThey also want to learn through games, my kids don't want to sit and do worksheets. They want to learn to count by jumping and playing. Physical engagement is the key to our success. The number toss and color and shape mats can make that happen. My students will forget they are doing work and just have the fun a 6 year old deserves. nan nan We Need To Move It While We Input It!\n"
     ]
    }
   ],
   "source": [
    "print(raw_data['text'].values[20000])"
   ]
  },
  {
   "cell_type": "code",
   "execution_count": 13,
   "metadata": {
    "colab": {
     "base_uri": "https://localhost:8080/",
     "height": 52
    },
    "colab_type": "code",
    "id": "UpDOCE09YKYV",
    "outputId": "d07b970e-f917-426e-c47e-515f0798e39e"
   },
   "outputs": [
    {
     "name": "stderr",
     "output_type": "stream",
     "text": [
      "100%|██████████| 109248/109248 [01:07<00:00, 1619.07it/s]"
     ]
    },
    {
     "name": "stdout",
     "output_type": "stream",
     "text": [
      "536\n"
     ]
    },
    {
     "name": "stderr",
     "output_type": "stream",
     "text": [
      "\n"
     ]
    }
   ],
   "source": [
    "from tqdm import tqdm\n",
    "preprocessed_essays = []\n",
    "len_essay = []\n",
    "# tqdm is for printing the status bar\n",
    "for sentence in tqdm(raw_data['text'].values):\n",
    "    sent = decontracted(sentence)\n",
    "    sent = sent.replace('\\\\r', ' ')\n",
    "    sent = sent.replace('\\\\\"', ' ')\n",
    "    sent = sent.replace('\\\\n', ' ')\n",
    "    sent = re.sub('[^A-Za-z0-9]+', ' ', sent)\n",
    "    len_essay.append(len(sent.split()))\n",
    "    # https://gist.github.com/sebleier/554280\n",
    "    sent = ' '.join(e for e in sent.split() if e not in stopwords)\n",
    "    preprocessed_essays.append(sent.lower().strip())\n",
    "print(max(len_essay))"
   ]
  },
  {
   "cell_type": "code",
   "execution_count": 14,
   "metadata": {
    "colab": {
     "base_uri": "https://localhost:8080/",
     "height": 35
    },
    "colab_type": "code",
    "id": "0aYJAdLNYNyy",
    "outputId": "26e85068-1f74-4d25-be48-e3d031a841bc"
   },
   "outputs": [
    {
     "name": "stderr",
     "output_type": "stream",
     "text": [
      "100%|██████████| 109248/109248 [00:00<00:00, 228897.02it/s]\n"
     ]
    }
   ],
   "source": [
    "numbers = []\n",
    "for sentence in tqdm(raw_data['project_resource_summary'].values):\n",
    "    temp = []\n",
    "    x = re.search('(\\d+)',sentence)\n",
    "    if x != None:\n",
    "        temp.append(x.group(0))\n",
    "    numbers.append(len(temp))"
   ]
  },
  {
   "cell_type": "markdown",
   "metadata": {
    "colab_type": "text",
    "id": "5UGHo6_KY6oW"
   },
   "source": [
    "<h3>Preparing data</h3>"
   ]
  },
  {
   "cell_type": "code",
   "execution_count": 15,
   "metadata": {
    "colab": {
     "base_uri": "https://localhost:8080/",
     "height": 139
    },
    "colab_type": "code",
    "id": "5tQJz6gjYX84",
    "outputId": "73c6a7ee-9f66-477b-a94a-dfed88fb5110"
   },
   "outputs": [
    {
     "name": "stdout",
     "output_type": "stream",
     "text": [
      "Index(['Unnamed: 0', 'id', 'teacher_id', 'teacher_prefix', 'school_state',\n",
      "       'project_submitted_datetime', 'project_grade_category', 'project_title',\n",
      "       'project_essay_1', 'project_essay_2', 'project_essay_3',\n",
      "       'project_essay_4', 'project_resource_summary',\n",
      "       'teacher_number_of_previously_posted_projects', 'project_is_approved',\n",
      "       'price', 'quantity', 'categories', 'subcategories', 'text'],\n",
      "      dtype='object')\n"
     ]
    }
   ],
   "source": [
    "print(raw_data.columns)"
   ]
  },
  {
   "cell_type": "code",
   "execution_count": 0,
   "metadata": {
    "colab": {},
    "colab_type": "code",
    "id": "GmMMYZBCZC81"
   },
   "outputs": [],
   "source": [
    "raw_data.drop(['id','teacher_id','project_essay_1','project_essay_2','project_essay_3','project_essay_4','text','project_title','project_resource_summary'],axis = 1,inplace = True)\n",
    "raw_data.drop(raw_data.columns[raw_data.columns.str.contains('unnamed',case = False)],axis = 1,inplace=True)\n",
    "raw_data['text'] = preprocessed_essays\n",
    "raw_data['resources_numbers'] = numbers\n",
    "Y = raw_data['project_is_approved']\n",
    "raw_data.drop('project_is_approved',axis=1,inplace=True)"
   ]
  },
  {
   "cell_type": "code",
   "execution_count": 0,
   "metadata": {
    "colab": {},
    "colab_type": "code",
    "id": "IidTenA2ZFPl"
   },
   "outputs": [],
   "source": [
    "from sklearn.model_selection import train_test_split\n",
    "x_train,x_test,y_train,y_test = train_test_split(raw_data,Y,test_size = 0.2,stratify=Y)\n",
    "x_train,x_cv,y_train,y_cv = train_test_split(x_train,y_train,test_size = 0.25,stratify=y_train)"
   ]
  },
  {
   "cell_type": "code",
   "execution_count": 18,
   "metadata": {
    "colab": {
     "base_uri": "https://localhost:8080/",
     "height": 69
    },
    "colab_type": "code",
    "id": "LMzRZ5fBZNn1",
    "outputId": "67c036f1-0018-4007-80de-d3116c91ab10"
   },
   "outputs": [
    {
     "name": "stdout",
     "output_type": "stream",
     "text": [
      "(65548, 11)\n",
      "(21850, 11)\n",
      "(21850, 11)\n"
     ]
    }
   ],
   "source": [
    "print(x_train.shape)\n",
    "print(x_cv.shape)\n",
    "print(x_test.shape)"
   ]
  },
  {
   "cell_type": "code",
   "execution_count": 0,
   "metadata": {
    "colab": {},
    "colab_type": "code",
    "id": "ZKprSHQTZPlS"
   },
   "outputs": [],
   "source": [
    "with open('train_data.pkl','wb') as f:\n",
    "    pickle.dump([x_train,y_train],f)\n",
    "    \n",
    "with open('cv_data.pkl','wb') as f:\n",
    "    pickle.dump([x_cv,y_cv],f)\n",
    "    \n",
    "with open('test_data.pkl','wb') as f:\n",
    "    pickle.dump([x_test,y_test],f)"
   ]
  },
  {
   "cell_type": "code",
   "execution_count": 0,
   "metadata": {
    "colab": {},
    "colab_type": "code",
    "id": "GdHt7tGgZS1A"
   },
   "outputs": [],
   "source": [
    "with open('train_data.pkl','rb') as f:\n",
    "    x_train,y_train = pickle.load(f)\n",
    "    \n",
    "with open('cv_data.pkl','rb') as f:\n",
    "    x_cv,y_cv = pickle.load(f)\n",
    "    \n",
    "with open('test_data.pkl','rb') as f:\n",
    "    x_test,y_test = pickle.load(f)"
   ]
  },
  {
   "cell_type": "code",
   "execution_count": 4,
   "metadata": {
    "colab": {
     "base_uri": "https://localhost:8080/",
     "height": 35
    },
    "colab_type": "code",
    "id": "HpIFiBEqZVF3",
    "outputId": "8f512a95-dc8c-4b1a-9403-02d60ce973e0"
   },
   "outputs": [
    {
     "name": "stdout",
     "output_type": "stream",
     "text": [
      "(65548, 2)\n"
     ]
    }
   ],
   "source": [
    "from keras.utils import np_utils\n",
    "y_train_new = np_utils.to_categorical(y_train)\n",
    "y_cv_new = np_utils.to_categorical(y_cv)\n",
    "y_test_new = np_utils.to_categorical(y_test)\n",
    "\n",
    "print(y_train_new.shape)"
   ]
  },
  {
   "cell_type": "markdown",
   "metadata": {
    "colab_type": "text",
    "id": "IZwIG0iZZboh"
   },
   "source": [
    "<h3> featurizing categorial variables using frequency ranking.</h3>"
   ]
  },
  {
   "cell_type": "code",
   "execution_count": 5,
   "metadata": {
    "colab": {
     "base_uri": "https://localhost:8080/",
     "height": 159
    },
    "colab_type": "code",
    "id": "5Z8HpZpqZYxE",
    "outputId": "3a4787c7-22fb-4858-b8f1-5235d6bbac27"
   },
   "outputs": [
    {
     "name": "stderr",
     "output_type": "stream",
     "text": [
      "100%|██████████| 65548/65548 [00:00<00:00, 1171422.77it/s]\n",
      "100%|██████████| 21850/21850 [00:00<00:00, 1194125.40it/s]\n",
      "100%|██████████| 21850/21850 [00:00<00:00, 1117792.15it/s]"
     ]
    },
    {
     "name": "stdout",
     "output_type": "stream",
     "text": [
      "Counter({'CA': 9264, 'TX': 4429, 'NY': 4365, 'FL': 3665, 'NC': 3095, 'IL': 2600, 'GA': 2385, 'SC': 2330, 'MI': 1900, 'PA': 1879, 'IN': 1557, 'MO': 1512, 'OH': 1477, 'LA': 1432, 'MA': 1427, 'WA': 1416, 'NJ': 1352, 'OK': 1343, 'AZ': 1298, 'VA': 1233, 'WI': 1085, 'UT': 1055, 'AL': 1044, 'TN': 1030, 'CT': 1000, 'MD': 914, 'NV': 846, 'MS': 822, 'OR': 763, 'KY': 760, 'MN': 730, 'CO': 648, 'AR': 627, 'ID': 427, 'KS': 386, 'IA': 383, 'NM': 337, 'DC': 327, 'HI': 304, 'ME': 290, 'WV': 287, 'NH': 228, 'AK': 224, 'DE': 197, 'NE': 193, 'SD': 182, 'RI': 158, 'MT': 152, 'ND': 94, 'WY': 52, 'VT': 44})\n",
      "\n",
      "['CA', 'TX', 'NY', 'FL', 'NC', 'IL', 'GA', 'SC', 'MI', 'PA', 'IN', 'MO', 'OH', 'LA', 'MA', 'WA', 'NJ', 'OK', 'AZ', 'VA', 'WI', 'UT', 'AL', 'TN', 'CT', 'MD', 'NV', 'MS', 'OR', 'KY', 'MN', 'CO', 'AR', 'ID', 'KS', 'IA', 'NM', 'DC', 'HI', 'ME', 'WV', 'NH', 'AK', 'DE', 'NE', 'SD', 'RI', 'MT', 'ND', 'WY', 'VT']\n",
      "51\n"
     ]
    },
    {
     "name": "stderr",
     "output_type": "stream",
     "text": [
      "\n"
     ]
    }
   ],
   "source": [
    "x = Counter(x_train['school_state'].values)\n",
    "print(x)\n",
    "print()\n",
    "names = list(x.keys())\n",
    "count = []\n",
    "for name in names:\n",
    "    count.append(x[name])\n",
    "k = np.argsort(count)\n",
    "final = []\n",
    "for i in range(len(names)):\n",
    "    final.append(names[k[i]])\n",
    "\n",
    "final = final[::-1]\n",
    "print(final)\n",
    "print(len(final))\n",
    "\n",
    "state_train = []\n",
    "for i in tqdm(x_train['school_state'].values):\n",
    "    state_train.append(final.index(i))\n",
    "\n",
    "state_cv = []\n",
    "for i in tqdm(x_cv['school_state'].values):\n",
    "    state_cv.append(final.index(i))\n",
    "    \n",
    "state_test = []\n",
    "for i in tqdm(x_test['school_state'].values):\n",
    "    state_test.append(final.index(i))\n",
    "    \n",
    "state_train = np.array(state_train)\n",
    "state_cv = np.array(state_cv)\n",
    "state_test = np.array(state_test)"
   ]
  },
  {
   "cell_type": "code",
   "execution_count": 6,
   "metadata": {
    "colab": {
     "base_uri": "https://localhost:8080/",
     "height": 159
    },
    "colab_type": "code",
    "id": "MrsJDImzZmpr",
    "outputId": "0db3062d-1e4d-4f57-f3a6-6cce62c23103"
   },
   "outputs": [
    {
     "name": "stderr",
     "output_type": "stream",
     "text": [
      "100%|██████████| 65548/65548 [00:00<00:00, 1537079.78it/s]\n",
      "100%|██████████| 21850/21850 [00:00<00:00, 1518944.93it/s]\n",
      "100%|██████████| 21850/21850 [00:00<00:00, 1570321.66it/s]"
     ]
    },
    {
     "name": "stdout",
     "output_type": "stream",
     "text": [
      "Counter({'Mrs.': 34296, 'Ms.': 23424, 'Mr.': 6427, 'Teacher': 1392, 'Dr.': 8, 'None': 1})\n",
      "\n",
      "['Mrs.', 'Ms.', 'Mr.', 'Teacher', 'Dr.', 'None']\n",
      "6\n"
     ]
    },
    {
     "name": "stderr",
     "output_type": "stream",
     "text": [
      "\n"
     ]
    }
   ],
   "source": [
    "x_train['teacher_prefix'] = x_train['teacher_prefix'].fillna('None')\n",
    "x_cv['teacher_prefix'] = x_cv['teacher_prefix'].fillna('None')\n",
    "x_test['teacher_prefix'] = x_test['teacher_prefix'].fillna('None')\n",
    "\n",
    "x = Counter(x_train['teacher_prefix'].values)\n",
    "print(x)\n",
    "print()\n",
    "names = list(x.keys())\n",
    "count = []\n",
    "for name in names:\n",
    "    count.append(x[name])\n",
    "k = np.argsort(count)\n",
    "final = []\n",
    "for i in range(len(names)):\n",
    "    final.append(names[k[i]])\n",
    "\n",
    "final = final[::-1]\n",
    "print(final)\n",
    "print(len(final))\n",
    "\n",
    "prefix_train = []\n",
    "for i in tqdm(x_train['teacher_prefix'].values):\n",
    "    prefix_train.append(final.index(i))\n",
    "\n",
    "prefix_cv = []\n",
    "for i in tqdm(x_cv['teacher_prefix'].values):\n",
    "    prefix_cv.append(final.index(i))\n",
    "    \n",
    "prefix_test = []\n",
    "for i in tqdm(x_test['teacher_prefix'].values):\n",
    "    prefix_test.append(final.index(i))\n",
    "    \n",
    "prefix_train = np.array(prefix_train)\n",
    "prefix_cv = np.array(prefix_cv)\n",
    "prefix_test = np.array(prefix_test)"
   ]
  },
  {
   "cell_type": "code",
   "execution_count": 7,
   "metadata": {
    "colab": {
     "base_uri": "https://localhost:8080/",
     "height": 159
    },
    "colab_type": "code",
    "id": "1JfdjFh0ZqDA",
    "outputId": "f1000ee8-60fd-42ef-a170-1073d7d0f846"
   },
   "outputs": [
    {
     "name": "stderr",
     "output_type": "stream",
     "text": [
      "100%|██████████| 65548/65548 [00:00<00:00, 1386125.24it/s]\n",
      "100%|██████████| 21850/21850 [00:00<00:00, 1215006.93it/s]\n",
      "100%|██████████| 21850/21850 [00:00<00:00, 1327542.12it/s]"
     ]
    },
    {
     "name": "stdout",
     "output_type": "stream",
     "text": [
      "Counter({'Math_Science': 19941, 'Literacy_Language': 18232, 'SpecialNeeds': 7912, 'Health_Sports': 6847, 'Music_Arts': 6115, 'AppliedLearning': 3512, 'History_Civics': 2150, 'Care_Hunger': 839})\n",
      "\n",
      "['Math_Science', 'Literacy_Language', 'SpecialNeeds', 'Health_Sports', 'Music_Arts', 'AppliedLearning', 'History_Civics', 'Care_Hunger']\n",
      "8\n"
     ]
    },
    {
     "name": "stderr",
     "output_type": "stream",
     "text": [
      "\n"
     ]
    }
   ],
   "source": [
    "x = Counter(x_train['categories'].values)\n",
    "print(x)\n",
    "print()\n",
    "names = list(x.keys())\n",
    "count = []\n",
    "for name in names:\n",
    "    count.append(x[name])\n",
    "k = np.argsort(count)\n",
    "final = []\n",
    "for i in range(len(names)):\n",
    "    final.append(names[k[i]])\n",
    "\n",
    "final = final[::-1]\n",
    "print(final)\n",
    "print(len(final))\n",
    "\n",
    "categories_train = []\n",
    "for i in tqdm(x_train['categories'].values):\n",
    "    categories_train.append(final.index(i))\n",
    "\n",
    "categories_cv = []\n",
    "for i in tqdm(x_cv['categories'].values):\n",
    "    if i in final:\n",
    "        categories_cv.append(final.index(i))\n",
    "    else:\n",
    "        categories_cv.append(-1)\n",
    "    \n",
    "categories_test = []\n",
    "for i in tqdm(x_test['categories'].values):\n",
    "    if i in final:\n",
    "        categories_test.append(final.index(i))\n",
    "    else:\n",
    "        categories_test.append(-1)\n",
    "        \n",
    "categories_train = np.array(categories_train)\n",
    "categories_cv = np.array(categories_cv)\n",
    "categories_test = np.array(categories_test)"
   ]
  },
  {
   "cell_type": "code",
   "execution_count": 8,
   "metadata": {
    "colab": {
     "base_uri": "https://localhost:8080/",
     "height": 159
    },
    "colab_type": "code",
    "id": "xoiDrma_ZtS4",
    "outputId": "9fc65e14-ba81-4f4e-faef-9505905bb021"
   },
   "outputs": [
    {
     "name": "stderr",
     "output_type": "stream",
     "text": [
      "100%|██████████| 65548/65548 [00:00<00:00, 1404142.22it/s]\n",
      "100%|██████████| 21850/21850 [00:00<00:00, 1194078.73it/s]\n",
      "100%|██████████| 21850/21850 [00:00<00:00, 1233187.23it/s]"
     ]
    },
    {
     "name": "stdout",
     "output_type": "stream",
     "text": [
      "Counter({'Mathematics': 15627, 'Literacy': 9464, 'Literature_Writing': 8166, 'SpecialNeeds': 7912, 'Health_Wellness': 3972, 'VisualArts': 3809, 'Health_LifeScience': 1505, 'AppliedSciences': 1485, 'TeamSports': 1335, 'EnvironmentalScience': 1324, 'Other': 1209, 'Music': 1193, 'PerformingArts': 1113, 'SocialSciences': 1099, 'Care_Hunger': 839, 'EarlyDevelopment': 777, 'NutritionEducation': 776, 'Gym_Fitness': 764, 'History_Geography': 760, 'College_CareerPrep': 561, 'ParentInvolvement': 359, 'ESL': 316, 'ForeignLanguages': 286, 'Extracurricular': 263, 'CharacterEducation': 237, 'FinancialLiteracy': 181, 'CommunityService': 106, 'Civics_Government': 60, 'Economics': 50})\n",
      "\n",
      "['Mathematics', 'Literacy', 'Literature_Writing', 'SpecialNeeds', 'Health_Wellness', 'VisualArts', 'Health_LifeScience', 'AppliedSciences', 'TeamSports', 'EnvironmentalScience', 'Other', 'Music', 'PerformingArts', 'SocialSciences', 'Care_Hunger', 'EarlyDevelopment', 'NutritionEducation', 'Gym_Fitness', 'History_Geography', 'College_CareerPrep', 'ParentInvolvement', 'ESL', 'ForeignLanguages', 'Extracurricular', 'CharacterEducation', 'FinancialLiteracy', 'CommunityService', 'Civics_Government', 'Economics']\n",
      "29\n"
     ]
    },
    {
     "name": "stderr",
     "output_type": "stream",
     "text": [
      "\n"
     ]
    }
   ],
   "source": [
    "x = Counter(x_train['subcategories'].values)\n",
    "print(x)\n",
    "print()\n",
    "names = list(x.keys())\n",
    "count = []\n",
    "for name in names:\n",
    "    count.append(x[name])\n",
    "k = np.argsort(count)\n",
    "final = []\n",
    "for i in range(len(names)):\n",
    "    final.append(names[k[i]])\n",
    "\n",
    "final = final[::-1]\n",
    "print(final)\n",
    "print(len(final))\n",
    "\n",
    "subcategories_train = []\n",
    "for i in tqdm(x_train['subcategories'].values):\n",
    "    subcategories_train.append(final.index(i))\n",
    "\n",
    "subcategories_cv = []\n",
    "for i in tqdm(x_cv['subcategories'].values):\n",
    "    if i in final:\n",
    "        subcategories_cv.append(final.index(i))\n",
    "    else:\n",
    "        subcategories_cv.append(-1)\n",
    "    \n",
    "subcategories_test = []\n",
    "for i in tqdm(x_test['subcategories'].values):\n",
    "    if i in final:\n",
    "        subcategories_test.append(final.index(i))\n",
    "    else:\n",
    "        subcategories_test.append(-1)\n",
    "        \n",
    "subcategories_train = np.array(subcategories_train)\n",
    "subcategories_cv = np.array(subcategories_cv)\n",
    "subcategories_test = np.array(subcategories_test)"
   ]
  },
  {
   "cell_type": "code",
   "execution_count": 9,
   "metadata": {
    "colab": {
     "base_uri": "https://localhost:8080/",
     "height": 159
    },
    "colab_type": "code",
    "id": "jK6pE4dSZwcV",
    "outputId": "bbc89cf1-429b-4177-e0c9-e9adb3cac861"
   },
   "outputs": [
    {
     "name": "stderr",
     "output_type": "stream",
     "text": [
      "100%|██████████| 65548/65548 [00:00<00:00, 1496794.60it/s]\n",
      "100%|██████████| 21850/21850 [00:00<00:00, 1140834.82it/s]\n",
      "100%|██████████| 21850/21850 [00:00<00:00, 1355402.53it/s]"
     ]
    },
    {
     "name": "stdout",
     "output_type": "stream",
     "text": [
      "Counter({'Grades PreK-2': 26503, 'Grades 3-5': 22397, 'Grades 6-8': 10076, 'Grades 9-12': 6572})\n",
      "\n",
      "['Grades PreK-2', 'Grades 3-5', 'Grades 6-8', 'Grades 9-12']\n",
      "4\n"
     ]
    },
    {
     "name": "stderr",
     "output_type": "stream",
     "text": [
      "\n"
     ]
    }
   ],
   "source": [
    "x = Counter(x_train['project_grade_category'].values)\n",
    "print(x)\n",
    "print()\n",
    "names = list(x.keys())\n",
    "count = []\n",
    "for name in names:\n",
    "    count.append(x[name])\n",
    "k = np.argsort(count)\n",
    "final = []\n",
    "for i in range(len(names)):\n",
    "    final.append(names[k[i]])\n",
    "\n",
    "final = final[::-1]\n",
    "print(final)\n",
    "print(len(final))\n",
    "\n",
    "grade_train = []\n",
    "for i in tqdm(x_train['project_grade_category'].values):\n",
    "    grade_train.append(final.index(i))\n",
    "\n",
    "grade_cv = []\n",
    "for i in tqdm(x_cv['project_grade_category'].values):\n",
    "    grade_cv.append(final.index(i))\n",
    "    \n",
    "grade_test = []\n",
    "for i in tqdm(x_test['project_grade_category'].values):\n",
    "    grade_test.append(final.index(i))\n",
    "    \n",
    "grade_train = np.array(grade_train)\n",
    "grade_cv = np.array(grade_cv)\n",
    "grade_test = np.array(grade_test)"
   ]
  },
  {
   "cell_type": "code",
   "execution_count": 6,
   "metadata": {
    "colab": {
     "base_uri": "https://localhost:8080/",
     "height": 72
    },
    "colab_type": "code",
    "id": "gNCtWbC4Z0tt",
    "outputId": "889bb55e-a86d-45e1-8735-35e870b6ae7a"
   },
   "outputs": [
    {
     "name": "stdout",
     "output_type": "stream",
     "text": [
      "47251\n",
      "[2268, 23, 3457, 4130, 23, 3053, 4407, 3712, 23, 8, 556, 420, 502, 312, 1, 23, 3457, 477, 601, 2268, 123, 574, 118, 13508, 582, 123, 650, 222, 252, 204, 159, 1839, 831, 4337, 22, 2800, 3055, 3162, 343, 4338, 14569, 996, 211, 813, 667, 368, 456, 2698, 2651, 721, 49, 262, 7236, 4130, 51, 3, 1, 70, 6573, 438, 178, 104, 103, 2188, 302, 2, 254, 48, 4783, 820, 290, 3, 477, 11, 495, 10, 1404, 159, 2, 14, 160, 30, 3695, 12, 1, 298, 5333, 1165, 990, 4039, 88, 5, 101, 184, 30, 3695, 11, 81, 101, 70, 1165, 29, 1908, 18, 159, 11, 102, 106, 2011, 726, 1077, 2, 40, 3695, 1, 49, 65, 861, 101, 4055, 159]\n"
     ]
    }
   ],
   "source": [
    "from keras.preprocessing.text import one_hot,Tokenizer\n",
    "from keras.preprocessing.sequence import pad_sequences\n",
    "\n",
    "t = Tokenizer()\n",
    "t.fit_on_texts(x_train['text'].values)\n",
    "vocab = len(t.word_counts) + 1\n",
    "print(vocab)\n",
    "\n",
    "train_sequence = t.texts_to_sequences(x_train['text'].values)\n",
    "print(train_sequence[2])\n",
    "cv_sequence = t.texts_to_sequences(x_cv['text'].values)\n",
    "test_sequence = t.texts_to_sequences(x_test['text'].values)\n",
    "\n",
    "train_sequence = np.array(pad_sequences(train_sequence,maxlen=600))\n",
    "cv_sequence = np.array(pad_sequences(cv_sequence,maxlen=600))\n",
    "test_sequence = np.array(pad_sequences(test_sequence,maxlen=600))"
   ]
  },
  {
   "cell_type": "code",
   "execution_count": 7,
   "metadata": {
    "colab": {
     "base_uri": "https://localhost:8080/",
     "height": 35
    },
    "colab_type": "code",
    "id": "O-kuylXgZ3__",
    "outputId": "43378c21-9e40-45d8-e698-d3098b085c74"
   },
   "outputs": [
    {
     "name": "stderr",
     "output_type": "stream",
     "text": [
      "100%|██████████| 47250/47250 [00:00<00:00, 332046.34it/s]\n"
     ]
    }
   ],
   "source": [
    "embedding_matrix = np.zeros((vocab,300))\n",
    "for word,i in tqdm(t.word_index.items()):\n",
    "    if word in glove_words:\n",
    "        embedding_matrix[i] = model[word]\n",
    "    else:\n",
    "        embedding_matrix[i] = np.zeros(300)"
   ]
  },
  {
   "cell_type": "markdown",
   "metadata": {
    "colab_type": "text",
    "id": "xY0Ae0wdZ76O"
   },
   "source": [
    "<h3>Standardizing numerical features</h3>"
   ]
  },
  {
   "cell_type": "code",
   "execution_count": 0,
   "metadata": {
    "colab": {},
    "colab_type": "code",
    "id": "NJb3mbeCZ6aC"
   },
   "outputs": [],
   "source": [
    "scaler = StandardScaler()\n",
    "price_train = scaler.fit_transform(x_train['price'].values.reshape(-1,1))\n",
    "price_cv = scaler.transform(x_cv['price'].values.reshape(-1,1))\n",
    "price_test = scaler.transform(x_test['price'].values.reshape(-1,1))"
   ]
  },
  {
   "cell_type": "code",
   "execution_count": 0,
   "metadata": {
    "colab": {},
    "colab_type": "code",
    "id": "mzv7BG8kaDFV"
   },
   "outputs": [],
   "source": [
    "scaler = StandardScaler()\n",
    "quantity_train = scaler.fit_transform(x_train['quantity'].values.reshape(-1,1))\n",
    "quantity_cv = scaler.transform(x_cv['quantity'].values.reshape(-1,1))\n",
    "quantity_test = scaler.transform(x_test['quantity'].values.reshape(-1,1))"
   ]
  },
  {
   "cell_type": "code",
   "execution_count": 0,
   "metadata": {
    "colab": {},
    "colab_type": "code",
    "id": "uQpBc_oeaFHN"
   },
   "outputs": [],
   "source": [
    "scaler = StandardScaler()\n",
    "posted_train = scaler.fit_transform(x_train['teacher_number_of_previously_posted_projects'].values.reshape(-1,1))\n",
    "posted_cv = scaler.transform(x_cv['teacher_number_of_previously_posted_projects'].values.reshape(-1,1))\n",
    "posted_test = scaler.transform(x_test['teacher_number_of_previously_posted_projects'].values.reshape(-1,1))"
   ]
  },
  {
   "cell_type": "code",
   "execution_count": 0,
   "metadata": {
    "colab": {},
    "colab_type": "code",
    "id": "bfBuzxtAaHuG"
   },
   "outputs": [],
   "source": [
    "scaler = StandardScaler()\n",
    "num_train = scaler.fit_transform(x_train['resources_numbers'].values.reshape(-1,1))\n",
    "num_cv = scaler.transform(x_cv['resources_numbers'].values.reshape(-1,1))\n",
    "num_test = scaler.transform(x_test['resources_numbers'].values.reshape(-1,1))\n"
   ]
  },
  {
   "cell_type": "code",
   "execution_count": 0,
   "metadata": {
    "colab": {},
    "colab_type": "code",
    "id": "kOFTOR2saUmz"
   },
   "outputs": [],
   "source": [
    "x_train_new = pd.DataFrame()\n",
    "x_train_new['state'] = state_train\n",
    "x_train_new['grade'] = grade_train\n",
    "x_train_new['categories'] = categories_train\n",
    "x_train_new['subcategories'] = subcategories_train\n",
    "x_train_new['prefix'] = prefix_train\n",
    "x_train_new['price'] = price_train\n",
    "x_train_new['quantity'] = quantity_train\n",
    "x_train_new['posted'] = posted_train\n",
    "x_train_new['resource'] = num_train\n",
    "\n",
    "x_cv_new = pd.DataFrame()\n",
    "x_cv_new['state'] = state_cv\n",
    "x_cv_new['grade'] = grade_cv\n",
    "x_cv_new['categories'] = categories_cv\n",
    "x_cv_new['subcategories'] = subcategories_cv\n",
    "x_cv_new['prefix'] = prefix_cv\n",
    "x_cv_new['price'] = price_cv\n",
    "x_cv_new['quantity'] = quantity_cv\n",
    "x_cv_new['posted'] = posted_cv\n",
    "x_cv_new['resource'] = num_cv\n",
    "\n",
    "x_test_new = pd.DataFrame()\n",
    "x_test_new['state'] = state_test\n",
    "x_test_new['grade'] = grade_test\n",
    "x_test_new['categories'] = categories_test\n",
    "x_test_new['subcategories'] = subcategories_test\n",
    "x_test_new['prefix'] = prefix_test\n",
    "x_test_new['price'] = price_test\n",
    "x_test_new['quantity'] = quantity_test\n",
    "x_test_new['posted'] = posted_test\n",
    "x_test_new['resource'] = num_test"
   ]
  },
  {
   "cell_type": "markdown",
   "metadata": {
    "colab_type": "text",
    "id": "wy9_bubGzt90"
   },
   "source": [
    "<h3> Model 1 </h3>"
   ]
  },
  {
   "cell_type": "code",
   "execution_count": 0,
   "metadata": {
    "colab": {},
    "colab_type": "code",
    "id": "aCr1o06maX_9"
   },
   "outputs": [],
   "source": [
    "from keras.layers import Input,Embedding,Flatten,Dense,concatenate,LSTM,Dropout\n",
    "from keras.models import Model\n",
    "#tf.keras.layers.\n",
    "# School state encoding\n",
    "state_input = Input(shape=(1,))\n",
    "state_embed = Embedding(51+1,3,input_length=1)(state_input)\n",
    "state_flatten = Flatten()(state_embed)\n",
    "\n",
    "# project grade encoding\n",
    "grade_input = Input(shape=(1,))\n",
    "grade_embed = Embedding(4+1,3,input_length=1)(grade_input)\n",
    "grade_flatten = Flatten()(grade_embed)\n",
    "\n",
    "# Teacher prefix encoding\n",
    "prefix_input = Input(shape=(1,))\n",
    "prefix_embed = Embedding(6+1,3,input_length=1)(prefix_input)\n",
    "prefix_flatten = Flatten()(prefix_embed)\n",
    "\n",
    "# categories encoding\n",
    "categories_input = Input(shape=(1,))\n",
    "categories_embed = Embedding(50+1,3,input_length=1)(categories_input)\n",
    "categories_flatten = Flatten()(categories_embed)\n",
    "#,dtype = 'float32'\n",
    "# subcategories encoding\n",
    "subcategories_input = Input(shape=(1,))\n",
    "subcategories_embed = Embedding(387+1,3,input_length=1)(subcategories_input)\n",
    "subcategories_flatten = Flatten()(subcategories_embed)\n",
    "\n",
    "# numerical features encoding\n",
    "num_input = Input(shape=(4,))\n",
    "num_dense = Dense(5,input_shape=(4,),activation = 'relu')(num_input)\n",
    "\n",
    "# text feature encoding\n",
    "text_input = Input(shape=(600,))\n",
    "text_embed = Embedding(vocab,300,weights=[embedding_matrix],trainable = False ,input_length=None)(text_input)\n",
    "text_lstm = LSTM(100,input_shape=(600,300),activation='relu',return_sequences= True )(text_embed)\n",
    "text_flatten = Flatten()(text_lstm)"
   ]
  },
  {
   "cell_type": "code",
   "execution_count": 43,
   "metadata": {
    "colab": {
     "base_uri": "https://localhost:8080/",
     "height": 1000
    },
    "colab_type": "code",
    "id": "cYgRFNUOacYx",
    "outputId": "9dfe813e-e275-4f7c-eb93-280849ec34bc"
   },
   "outputs": [
    {
     "name": "stderr",
     "output_type": "stream",
     "text": [
      "W0829 17:04:42.308383 140462514567040 nn_ops.py:4224] Large dropout rate: 0.7 (>0.5). In TensorFlow 2.x, dropout() uses dropout rate instead of keep_prob. Please ensure that this is intended.\n"
     ]
    },
    {
     "name": "stdout",
     "output_type": "stream",
     "text": [
      "Model: \"model_3\"\n",
      "__________________________________________________________________________________________________\n",
      "Layer (type)                    Output Shape         Param #     Connected to                     \n",
      "==================================================================================================\n",
      "input_21 (InputLayer)           (None, 600)          0                                            \n",
      "__________________________________________________________________________________________________\n",
      "embedding_18 (Embedding)        (None, 600, 300)     14175300    input_21[0][0]                   \n",
      "__________________________________________________________________________________________________\n",
      "input_15 (InputLayer)           (None, 1)            0                                            \n",
      "__________________________________________________________________________________________________\n",
      "input_16 (InputLayer)           (None, 1)            0                                            \n",
      "__________________________________________________________________________________________________\n",
      "input_18 (InputLayer)           (None, 1)            0                                            \n",
      "__________________________________________________________________________________________________\n",
      "input_19 (InputLayer)           (None, 1)            0                                            \n",
      "__________________________________________________________________________________________________\n",
      "input_17 (InputLayer)           (None, 1)            0                                            \n",
      "__________________________________________________________________________________________________\n",
      "lstm_3 (LSTM)                   (None, 600, 100)     160400      embedding_18[0][0]               \n",
      "__________________________________________________________________________________________________\n",
      "embedding_13 (Embedding)        (None, 1, 3)         156         input_15[0][0]                   \n",
      "__________________________________________________________________________________________________\n",
      "embedding_14 (Embedding)        (None, 1, 3)         15          input_16[0][0]                   \n",
      "__________________________________________________________________________________________________\n",
      "embedding_16 (Embedding)        (None, 1, 3)         153         input_18[0][0]                   \n",
      "__________________________________________________________________________________________________\n",
      "embedding_17 (Embedding)        (None, 1, 3)         1164        input_19[0][0]                   \n",
      "__________________________________________________________________________________________________\n",
      "embedding_15 (Embedding)        (None, 1, 3)         21          input_17[0][0]                   \n",
      "__________________________________________________________________________________________________\n",
      "input_20 (InputLayer)           (None, 4)            0                                            \n",
      "__________________________________________________________________________________________________\n",
      "flatten_18 (Flatten)            (None, 60000)        0           lstm_3[0][0]                     \n",
      "__________________________________________________________________________________________________\n",
      "flatten_13 (Flatten)            (None, 3)            0           embedding_13[0][0]               \n",
      "__________________________________________________________________________________________________\n",
      "flatten_14 (Flatten)            (None, 3)            0           embedding_14[0][0]               \n",
      "__________________________________________________________________________________________________\n",
      "flatten_16 (Flatten)            (None, 3)            0           embedding_16[0][0]               \n",
      "__________________________________________________________________________________________________\n",
      "flatten_17 (Flatten)            (None, 3)            0           embedding_17[0][0]               \n",
      "__________________________________________________________________________________________________\n",
      "flatten_15 (Flatten)            (None, 3)            0           embedding_15[0][0]               \n",
      "__________________________________________________________________________________________________\n",
      "dense_11 (Dense)                (None, 5)            25          input_20[0][0]                   \n",
      "__________________________________________________________________________________________________\n",
      "concatenate_3 (Concatenate)     (None, 60020)        0           flatten_18[0][0]                 \n",
      "                                                                 flatten_13[0][0]                 \n",
      "                                                                 flatten_14[0][0]                 \n",
      "                                                                 flatten_16[0][0]                 \n",
      "                                                                 flatten_17[0][0]                 \n",
      "                                                                 flatten_15[0][0]                 \n",
      "                                                                 dense_11[0][0]                   \n",
      "__________________________________________________________________________________________________\n",
      "dense_12 (Dense)                (None, 320)          19206720    concatenate_3[0][0]              \n",
      "__________________________________________________________________________________________________\n",
      "dropout_5 (Dropout)             (None, 320)          0           dense_12[0][0]                   \n",
      "__________________________________________________________________________________________________\n",
      "dense_13 (Dense)                (None, 160)          51360       dropout_5[0][0]                  \n",
      "__________________________________________________________________________________________________\n",
      "dropout_6 (Dropout)             (None, 160)          0           dense_13[0][0]                   \n",
      "__________________________________________________________________________________________________\n",
      "dense_14 (Dense)                (None, 80)           12880       dropout_6[0][0]                  \n",
      "__________________________________________________________________________________________________\n",
      "dense_15 (Dense)                (None, 2)            162         dense_14[0][0]                   \n",
      "==================================================================================================\n",
      "Total params: 33,608,356\n",
      "Trainable params: 19,433,056\n",
      "Non-trainable params: 14,175,300\n",
      "__________________________________________________________________________________________________\n",
      "None\n"
     ]
    },
    {
     "name": "stderr",
     "output_type": "stream",
     "text": [
      "/usr/local/lib/python3.6/dist-packages/ipykernel_launcher.py:10: UserWarning: Update your `Model` call to the Keras 2 API: `Model(inputs=[<tf.Tenso..., outputs=[<tf.Tenso...)`\n",
      "  # Remove the CWD from sys.path while we load stuff.\n"
     ]
    }
   ],
   "source": [
    "from keras.models import Model\n",
    "concat = concatenate([text_flatten,state_flatten,grade_flatten,categories_flatten,subcategories_flatten,prefix_flatten,num_dense])\n",
    "dense1 = Dense(320,activation='relu')(concat)\n",
    "dropout1 = Dropout(0.7)(dense1)\n",
    "dense2 = Dense(160,activation='relu')(dropout1)\n",
    "dropout2 = Dropout(0.7)(dense2)\n",
    "dense3 = Dense(80,activation='relu')(dropout2)\n",
    "output = Dense(2,activation='softmax')(dense3)\n",
    "\n",
    "nn = Model(input=[text_input,state_input,grade_input,categories_input,subcategories_input,prefix_input,num_input],output=[output])\n",
    "\n",
    "print(nn.summary())"
   ]
  },
  {
   "cell_type": "code",
   "execution_count": 0,
   "metadata": {
    "colab": {},
    "colab_type": "code",
    "id": "9nf7RntWahQU"
   },
   "outputs": [],
   "source": [
    "#how to use auc as metric in keras: https://stackoverflow.com/questions/41032551/how-to-compute-receiving-operating-characteristic-roc-and-auc-in-keras\n",
    "from sklearn.metrics import roc_auc_score\n",
    "from keras.callbacks import EarlyStopping\n",
    "from keras.callbacks import TensorBoard\n",
    "# How to early stop if val_loss is increasing: https://machinelearningmastery.com/how-to-stop-training-deep-neural-networks-at-the-right-time-using-early-stopping/\n",
    " \n",
    "tensorboard =TensorBoard(log_dir=\"Model1\")"
   ]
  },
  {
   "cell_type": "code",
   "execution_count": 0,
   "metadata": {
    "colab": {},
    "colab_type": "code",
    "id": "lbmhbJ6CCXwg"
   },
   "outputs": [],
   "source": [
    "import keras\n",
    "import numpy as np\n",
    "from sklearn.metrics import auc\n",
    "\n",
    "#Using auc as metric: https://datascience.stackexchange.com/questions/13746/how-to-define-a-custom-performance-metric-in-keras/20192#20192\n",
    "import sklearn.metrics as sklm\n",
    "#How to get roc-auc curve:https://stackoverflow.com/questions/41032551/how-to-compute-receiving-operating-characteristic-roc-and-auc-in-keras\n",
    "# Create own earlystopping:https://stackoverflow.com/questions/37293642/how-to-tell-keras-stop-training-based-on-loss-value\n",
    "class Metrics(keras.callbacks.Callback):\n",
    "    def __init__(self,training_data):\n",
    "      self.x = training_data[0]\n",
    "      self.y = training_data[1]\n",
    "      super(keras.callbacks.Callback, self).__init__()\n",
    "      \n",
    "      \n",
    "    def on_train_begin(self, logs={}):\n",
    "        self.cv_auc = []\n",
    "        self.train_auc = []\n",
    "        self.max_auc = -1\n",
    "        \n",
    "        \n",
    "    def on_epoch_end(self, epoch, logs={}):\n",
    "        train_score = np.asarray(self.model.predict(self.x,batch_size=2048,verbose=1))\n",
    "        #train_predict = np.round(train_score)\n",
    "        train_targ = self.y\n",
    "        print(\"Train AUC score\",sklm.roc_auc_score(train_targ,train_score))\n",
    "        self.train_auc.append(sklm.roc_auc_score(train_targ,train_score))\n",
    "        \n",
    "        cv_score = np.asarray(self.model.predict(self.validation_data[:7],batch_size=2048,verbose=1))\n",
    "        #cv_predict = np.round(cv_score)\n",
    "        cv_targ = self.validation_data[7]\n",
    "        print(\"Validation AUC score\",sklm.roc_auc_score(cv_targ,cv_score))\n",
    "        self.cv_auc.append(sklm.roc_auc_score(cv_targ,cv_score))\n",
    "        \n",
    "        if self.max_auc < self.cv_auc[-1]:\n",
    "          temp = self.model.save_weights('Model1.pkl',overwrite=True)\n",
    "          self.max_auc = self.cv_auc[-1]\n",
    "          print(\"Changed\")\n",
    "        else:\n",
    "          print(\"No change\")\n",
    "            \n",
    "            #print(\"Epoch:\",epoch,\"EarlyStopped by CV_AUC\")\n",
    "            #self.model.stop_training = True\n",
    "\n",
    "        return\n",
    "      \n",
    "auc_metric = Metrics(training_data=([train_sequence,x_train_new['state'],x_train_new['grade'],x_train_new['categories'],x_train_new['subcategories'],x_train_new['prefix'],x_train_new[['price','quantity','posted','resource']]],y_train_new))"
   ]
  },
  {
   "cell_type": "code",
   "execution_count": 46,
   "metadata": {
    "colab": {
     "base_uri": "https://localhost:8080/",
     "height": 1000
    },
    "colab_type": "code",
    "id": "83514JnLaxb0",
    "outputId": "0e000649-8a05-418d-cd41-e71e1b8b8bd4"
   },
   "outputs": [
    {
     "name": "stdout",
     "output_type": "stream",
     "text": [
      "Train on 65548 samples, validate on 21850 samples\n",
      "Epoch 1/20\n",
      "65548/65548 [==============================] - 103s 2ms/step - loss: 0.5513 - acc: 0.8173 - val_loss: 0.4968 - val_acc: 0.8486\n",
      "65548/65548 [==============================] - 31s 473us/step\n",
      "Train AUC score 0.6666515006952844\n",
      "21850/21850 [==============================] - 10s 469us/step\n",
      "Validation AUC score 0.6545336318916452\n",
      "Changed\n",
      "Epoch 2/20\n",
      "65548/65548 [==============================] - 102s 2ms/step - loss: 0.4213 - acc: 0.8486 - val_loss: 0.4463 - val_acc: 0.8486\n",
      "65548/65548 [==============================] - 31s 472us/step\n",
      "Train AUC score 0.7222910298736125\n",
      "21850/21850 [==============================] - 10s 470us/step\n",
      "Validation AUC score 0.7091812556781815\n",
      "Changed\n",
      "Epoch 3/20\n",
      "65548/65548 [==============================] - 102s 2ms/step - loss: 0.3999 - acc: 0.8486 - val_loss: 0.4842 - val_acc: 0.8486\n",
      "65548/65548 [==============================] - 31s 471us/step\n",
      "Train AUC score 0.744347210446216\n",
      "21850/21850 [==============================] - 10s 469us/step\n",
      "Validation AUC score 0.7250562323232614\n",
      "Changed\n",
      "Epoch 4/20\n",
      "65548/65548 [==============================] - 102s 2ms/step - loss: 0.3988 - acc: 0.8486 - val_loss: 0.4654 - val_acc: 0.8486\n",
      "65548/65548 [==============================] - 31s 470us/step\n",
      "Train AUC score 0.7477725385965821\n",
      "21850/21850 [==============================] - 10s 471us/step\n",
      "Validation AUC score 0.7258797851140356\n",
      "Changed\n",
      "Epoch 5/20\n",
      "65548/65548 [==============================] - 102s 2ms/step - loss: 0.3906 - acc: 0.8486 - val_loss: 0.4659 - val_acc: 0.8486\n",
      "65548/65548 [==============================] - 31s 469us/step\n",
      "Train AUC score 0.7580527698819477\n",
      "21850/21850 [==============================] - 10s 471us/step\n",
      "Validation AUC score 0.7353995341224204\n",
      "Changed\n",
      "Epoch 6/20\n",
      "65548/65548 [==============================] - 102s 2ms/step - loss: 0.3800 - acc: 0.8486 - val_loss: 0.4488 - val_acc: 0.8486\n",
      "65548/65548 [==============================] - 31s 467us/step\n",
      "Train AUC score 0.7677038941224095\n",
      "21850/21850 [==============================] - 10s 468us/step\n",
      "Validation AUC score 0.7403886609127055\n",
      "Changed\n",
      "Epoch 7/20\n",
      "65548/65548 [==============================] - 102s 2ms/step - loss: 0.3774 - acc: 0.8486 - val_loss: 0.4520 - val_acc: 0.8486\n",
      "65548/65548 [==============================] - 31s 470us/step\n",
      "Train AUC score 0.779867987668512\n",
      "21850/21850 [==============================] - 10s 464us/step\n",
      "Validation AUC score 0.7444809326953055\n",
      "Changed\n",
      "Epoch 8/20\n",
      "65548/65548 [==============================] - 102s 2ms/step - loss: 0.3697 - acc: 0.8486 - val_loss: 0.4477 - val_acc: 0.8486\n",
      "65548/65548 [==============================] - 31s 468us/step\n",
      "Train AUC score 0.7909313985013628\n",
      "21850/21850 [==============================] - 10s 464us/step\n",
      "Validation AUC score 0.7466658309993898\n",
      "Changed\n",
      "Epoch 9/20\n",
      "65548/65548 [==============================] - 102s 2ms/step - loss: 0.3695 - acc: 0.8486 - val_loss: 0.4443 - val_acc: 0.8486\n",
      "65548/65548 [==============================] - 31s 466us/step\n",
      "Train AUC score 0.7968550435187299\n",
      "21850/21850 [==============================] - 10s 466us/step\n",
      "Validation AUC score 0.7460503882103988\n",
      "No change\n",
      "Epoch 10/20\n",
      "65548/65548 [==============================] - 102s 2ms/step - loss: 0.3629 - acc: 0.8486 - val_loss: 0.4218 - val_acc: 0.8486\n",
      "65548/65548 [==============================] - 31s 469us/step\n",
      "Train AUC score 0.8085930973500941\n",
      "21850/21850 [==============================] - 10s 469us/step\n",
      "Validation AUC score 0.7489070802044504\n",
      "Changed\n",
      "Epoch 11/20\n",
      "65548/65548 [==============================] - 102s 2ms/step - loss: 0.3592 - acc: 0.8486 - val_loss: 0.4217 - val_acc: 0.8486\n",
      "65548/65548 [==============================] - 31s 474us/step\n",
      "Train AUC score 0.8211585208101446\n",
      "21850/21850 [==============================] - 10s 470us/step\n",
      "Validation AUC score 0.7488759810594471\n",
      "No change\n",
      "Epoch 12/20\n",
      "65548/65548 [==============================] - 101s 2ms/step - loss: 0.3513 - acc: 0.8486 - val_loss: 0.4073 - val_acc: 0.8486\n",
      "65548/65548 [==============================] - 30s 465us/step\n",
      "Train AUC score 0.8385057030437593\n",
      "21850/21850 [==============================] - 10s 466us/step\n",
      "Validation AUC score 0.7481564425212089\n",
      "No change\n",
      "Epoch 13/20\n",
      "65548/65548 [==============================] - 102s 2ms/step - loss: 0.3481 - acc: 0.8486 - val_loss: 0.4319 - val_acc: 0.8486\n",
      "65548/65548 [==============================] - 31s 466us/step\n",
      "Train AUC score 0.8532703698717314\n",
      "21850/21850 [==============================] - 10s 477us/step\n",
      "Validation AUC score 0.7454466442743044\n",
      "No change\n",
      "Epoch 14/20\n",
      "65548/65548 [==============================] - 102s 2ms/step - loss: 0.3469 - acc: 0.8486 - val_loss: 0.4091 - val_acc: 0.8486\n",
      "65548/65548 [==============================] - 31s 468us/step\n",
      "Train AUC score 0.8546470397531853\n",
      "21850/21850 [==============================] - 10s 473us/step\n",
      "Validation AUC score 0.7410293839815182\n",
      "No change\n",
      "Epoch 15/20\n",
      "65548/65548 [==============================] - 102s 2ms/step - loss: 0.3365 - acc: 0.8486 - val_loss: 0.4018 - val_acc: 0.8486\n",
      "65548/65548 [==============================] - 31s 469us/step\n",
      "Train AUC score 0.8724147405452802\n",
      "21850/21850 [==============================] - 10s 473us/step\n",
      "Validation AUC score 0.7381560096106788\n",
      "No change\n",
      "Epoch 16/20\n",
      "65548/65548 [==============================] - 102s 2ms/step - loss: 0.3245 - acc: 0.8486 - val_loss: 0.3875 - val_acc: 0.8486\n",
      "65548/65548 [==============================] - 31s 475us/step\n",
      "Train AUC score 0.8876581494046076\n",
      "21850/21850 [==============================] - 10s 472us/step\n",
      "Validation AUC score 0.7358184149936084\n",
      "No change\n",
      "Epoch 17/20\n",
      "65548/65548 [==============================] - 102s 2ms/step - loss: 0.3147 - acc: 0.8486 - val_loss: 0.3954 - val_acc: 0.8486\n",
      "65548/65548 [==============================] - 31s 474us/step\n",
      "Train AUC score 0.9057646305546276\n",
      "21850/21850 [==============================] - 10s 468us/step\n",
      "Validation AUC score 0.7307370013275325\n",
      "No change\n",
      "Epoch 18/20\n",
      "65548/65548 [==============================] - 102s 2ms/step - loss: 0.3033 - acc: 0.8486 - val_loss: 0.3962 - val_acc: 0.8486\n",
      "65548/65548 [==============================] - 31s 473us/step\n",
      "Train AUC score 0.9218418250319678\n",
      "21850/21850 [==============================] - 10s 469us/step\n",
      "Validation AUC score 0.728364636138618\n",
      "No change\n",
      "Epoch 19/20\n",
      "65548/65548 [==============================] - 102s 2ms/step - loss: 0.2907 - acc: 0.8486 - val_loss: 0.3978 - val_acc: 0.8486\n",
      "65548/65548 [==============================] - 31s 471us/step\n",
      "Train AUC score 0.9303040263276554\n",
      "21850/21850 [==============================] - 10s 470us/step\n",
      "Validation AUC score 0.7268494818822135\n",
      "No change\n",
      "Epoch 20/20\n",
      "65548/65548 [==============================] - 102s 2ms/step - loss: 0.2898 - acc: 0.8486 - val_loss: 0.4013 - val_acc: 0.8486\n",
      "65548/65548 [==============================] - 31s 472us/step\n",
      "Train AUC score 0.9364911199818533\n",
      "21850/21850 [==============================] - 10s 472us/step\n",
      "Validation AUC score 0.7216219364632406\n",
      "No change\n"
     ]
    }
   ],
   "source": [
    "nn.compile(optimizer='adam',loss='binary_crossentropy',metrics=['accuracy'])\n",
    "result = nn.fit([train_sequence,x_train_new['state'],x_train_new['grade'],x_train_new['categories'],x_train_new['subcategories'],x_train_new['prefix'],x_train_new[['price','quantity','posted','resource']]],y_train_new,batch_size=2048,callbacks=[tensorboard,auc_metric],epochs = 20,verbose=1,validation_data=([cv_sequence,x_cv_new['state'],x_cv_new['grade'],x_cv_new['categories'],x_cv_new['subcategories'],x_cv_new['prefix'],x_cv_new[['price','quantity','posted','resource']]],y_cv_new))"
   ]
  },
  {
   "cell_type": "code",
   "execution_count": 47,
   "metadata": {
    "colab": {
     "base_uri": "https://localhost:8080/",
     "height": 283
    },
    "colab_type": "code",
    "id": "q9AW5ukAKVA2",
    "outputId": "b561f545-6c0d-47c4-d9f3-8c86b9e42eb4"
   },
   "outputs": [
    {
     "data": {
      "image/png": "[encoded data removed]",
      "text/plain": [
       "<Figure size 432x288 with 1 Axes>"
      ]
     },
     "metadata": {
      "tags": []
     },
     "output_type": "display_data"
    }
   ],
   "source": [
    "k = [i for i in range(1,len(auc_metric.cv_auc)+1)]\n",
    "plt.plot(k,auc_metric.train_auc,label=\"Train AUC\")\n",
    "plt.scatter(k,auc_metric.train_auc)\n",
    "plt.plot(k,auc_metric.cv_auc,label=\"Validation AUC\")\n",
    "plt.scatter(k,auc_metric.cv_auc)\n",
    "plt.xlabel('epochs')\n",
    "plt.ylabel('AUC')\n",
    "plt.grid()\n",
    "plt.legend()\n",
    "plt.show()"
   ]
  },
  {
   "cell_type": "code",
   "execution_count": 48,
   "metadata": {
    "colab": {
     "base_uri": "https://localhost:8080/",
     "height": 104
    },
    "colab_type": "code",
    "id": "NA5WKkOKo2wi",
    "outputId": "737ba622-c970-4db5-93c2-899b426ce9ea"
   },
   "outputs": [
    {
     "name": "stdout",
     "output_type": "stream",
     "text": [
      "21850/21850 [==============================] - 10s 480us/step\n",
      "21850/21850 [==============================] - 10s 475us/step\n",
      "Test Accuracy 0.8486041191513533\n",
      "Test loss 0.4211515887651072\n",
      "Test AUC 0.7521418171263071\n"
     ]
    }
   ],
   "source": [
    "nn.load_weights('Model1.pkl')\n",
    "score = nn.evaluate([test_sequence,x_test_new['state'],x_test_new['grade'],x_test_new['categories'],x_test_new['subcategories'],x_test_new['prefix'],x_test_new[['price','quantity','posted','resource']]],y_test_new,verbose=1,batch_size=2048)\n",
    "y_test_hat = nn.predict([test_sequence,x_test_new['state'],x_test_new['grade'],x_test_new['categories'],x_test_new['subcategories'],x_test_new['prefix'],x_test_new[['price','quantity','posted','resource']]],verbose=1,batch_size=2048)\n",
    "\n",
    "print(\"Test Accuracy\",score[1])\n",
    "print(\"Test loss\",score[0])\n",
    "print(\"Test AUC\",roc_auc_score(y_test,y_test_hat[:,1]))"
   ]
  },
  {
   "cell_type": "markdown",
   "metadata": {
    "colab_type": "text",
    "id": "_xSlbh3I1uHy"
   },
   "source": [
    "<h3> Model 2 <h3>"
   ]
  },
  {
   "cell_type": "markdown",
   "metadata": {
    "colab_type": "text",
    "id": "eypLpcSyznLU"
   },
   "source": [
    "<h3><font color=red>"
   ]
  },
  {
   "cell_type": "code",
   "execution_count": 10,
   "metadata": {
    "colab": {
     "base_uri": "https://localhost:8080/",
     "height": 35
    },
    "colab_type": "code",
    "id": "dbgJqTDCzU-O",
    "outputId": "f95f51b4-bcf4-44d0-ec04-310f5cc275b3"
   },
   "outputs": [
    {
     "name": "stdout",
     "output_type": "stream",
     "text": [
      "13935\n"
     ]
    }
   ],
   "source": [
    "from sklearn.feature_extraction.text import TfidfVectorizer\n",
    "tfidf = TfidfVectorizer(min_df=10)\n",
    "tfidf.fit(x_train['text'])\n",
    "print(len(tfidf.vocabulary_))"
   ]
  },
  {
   "cell_type": "code",
   "execution_count": 0,
   "metadata": {
    "colab": {},
    "colab_type": "code",
    "id": "ETs_HV8W3bXU"
   },
   "outputs": [],
   "source": [
    "vals = tfidf.idf_\n",
    "words = tfidf.get_feature_names()"
   ]
  },
  {
   "cell_type": "code",
   "execution_count": 12,
   "metadata": {
    "colab": {
     "base_uri": "https://localhost:8080/",
     "height": 269
    },
    "colab_type": "code",
    "id": "e3mKJM1n5a00",
    "outputId": "7a64156e-cd30-4f88-c922-80c8113a4072"
   },
   "outputs": [
    {
     "data": {
      "image/png": "[encoded data removed]",
      "text/plain": [
       "<Figure size 432x288 with 1 Axes>"
      ]
     },
     "metadata": {
      "tags": []
     },
     "output_type": "display_data"
    }
   ],
   "source": [
    "import seaborn as sns\n",
    "temp_vals = (np.sort(vals))\n",
    "sns.distplot(temp_vals, hist=False, rug=True)\n",
    "plt.show()"
   ]
  },
  {
   "cell_type": "code",
   "execution_count": 13,
   "metadata": {
    "colab": {
     "base_uri": "https://localhost:8080/",
     "height": 287
    },
    "colab_type": "code",
    "id": "iVcLptfj5dEF",
    "outputId": "703204f3-9e06-407b-df63-c1d45ce0addf"
   },
   "outputs": [
    {
     "data": {
      "text/plain": [
       "<matplotlib.axes._subplots.AxesSubplot at 0x7fac72ef3128>"
      ]
     },
     "execution_count": 13,
     "metadata": {
      "tags": []
     },
     "output_type": "execute_result"
    },
    {
     "data": {
      "image/png": "[encoded data removed]",
      "text/plain": [
       "<Figure size 432x288 with 1 Axes>"
      ]
     },
     "metadata": {
      "tags": []
     },
     "output_type": "display_data"
    }
   ],
   "source": [
    "sns.boxplot(temp_vals,whis = [5,95])"
   ]
  },
  {
   "cell_type": "code",
   "execution_count": 14,
   "metadata": {
    "colab": {
     "base_uri": "https://localhost:8080/",
     "height": 381
    },
    "colab_type": "code",
    "id": "bEHcR7jj6Tjb",
    "outputId": "10e9db68-d28e-49c3-a747-611d2171125e"
   },
   "outputs": [
    {
     "name": "stdout",
     "output_type": "stream",
     "text": [
      "The 0th percentile is 1.0074880335180072\n",
      "The 5th percentile is 4.482181341817483\n",
      "The 10th percentile is 5.355961573572401\n",
      "The 15th percentile is 5.9232466063227\n",
      "The 20th percentile is 6.438064053276699\n",
      "The 25th percentile is 6.827863044640464\n",
      "The 30th percentile is 7.163299548388144\n",
      "The 35th percentile is 7.455824245315713\n",
      "The 40th percentile is 7.721105381078328\n",
      "The 45th percentile is 7.947418507153817\n",
      "The 50th percentile is 8.158727600821024\n",
      "The 55th percentile is 8.35288361526198\n",
      "The 60th percentile is 8.564192708929188\n",
      "The 65th percentile is 8.723257403558875\n",
      "The 70th percentile is 8.912499403197405\n",
      "The 75th percentile is 9.094820959991358\n",
      "The 80th percentile is 9.257339889489133\n",
      "The 85th percentile is 9.38250303244314\n",
      "The 90th percentile is 9.525603876083812\n",
      "The 95th percentile is 9.605646583757348\n",
      "The 100th percentile is 9.69265796074698\n"
     ]
    }
   ],
   "source": [
    "for i in range(0,101,5):\n",
    "  print(\"The {}th percentile is {}\".format(i,np.percentile(temp_vals,i)))"
   ]
  },
  {
   "cell_type": "code",
   "execution_count": 15,
   "metadata": {
    "colab": {
     "base_uri": "https://localhost:8080/",
     "height": 208
    },
    "colab_type": "code",
    "id": "CWB0IvXn7UR-",
    "outputId": "6fb2ad12-5355-4bbc-e5df-272d427a44fa"
   },
   "outputs": [
    {
     "name": "stdout",
     "output_type": "stream",
     "text": [
      "The 20th percentile is 6.438064053276699\n",
      "The 21th percentile is 6.518399201367585\n",
      "The 22th percentile is 6.605756300054694\n",
      "The 23th percentile is 6.68787585167307\n",
      "The 24th percentile is 6.753015153844031\n",
      "The 25th percentile is 6.827863044640464\n",
      "The 26th percentile is 6.908769683253264\n",
      "The 27th percentile is 6.978565445188806\n",
      "The 28th percentile is 7.040697226295812\n",
      "The 29th percentile is 7.106946611837013\n",
      "The 30th percentile is 7.163299548388144\n"
     ]
    }
   ],
   "source": [
    "for i in range(20,31,1):\n",
    "  print(\"The {}th percentile is {}\".format(i,np.percentile(temp_vals,i)))"
   ]
  },
  {
   "cell_type": "code",
   "execution_count": 16,
   "metadata": {
    "colab": {
     "base_uri": "https://localhost:8080/",
     "height": 208
    },
    "colab_type": "code",
    "id": "znSCczSN85ww",
    "outputId": "4ed8b856-519a-4b81-8589-ede9a5739a7f"
   },
   "outputs": [
    {
     "name": "stdout",
     "output_type": "stream",
     "text": [
      "The 70th percentile is 8.912499403197405\n",
      "The 71th percentile is 8.9550590176162\n",
      "The 72th percentile is 8.999510780187034\n",
      "The 73th percentile is 8.999510780187034\n",
      "The 74th percentile is 9.046030795821926\n",
      "The 75th percentile is 9.094820959991358\n",
      "The 76th percentile is 9.094820959991358\n",
      "The 77th percentile is 9.14611425437891\n",
      "The 78th percentile is 9.14611425437891\n",
      "The 79th percentile is 9.200181475649185\n",
      "The 80th percentile is 9.257339889489133\n"
     ]
    }
   ],
   "source": [
    "for i in range(70,81,1):\n",
    "  print(\"The {}th percentile is {}\".format(i,np.percentile(temp_vals,i)))"
   ]
  },
  {
   "cell_type": "markdown",
   "metadata": {
    "colab_type": "text",
    "id": "EBzva2tw9JXy"
   },
   "source": [
    "Here, we can see that the idf values of the IQR (25-75 percentile) range lies approximately between 6.8 to 9."
   ]
  },
  {
   "cell_type": "code",
   "execution_count": 17,
   "metadata": {
    "colab": {
     "base_uri": "https://localhost:8080/",
     "height": 173
    },
    "colab_type": "code",
    "id": "981OaBgM9EB3",
    "outputId": "3983c63e-b051-4eea-ea29-85d2bd9482e8"
   },
   "outputs": [
    {
     "name": "stdout",
     "output_type": "stream",
     "text": [
      "Number of idf values between 1 and 2 is 25\n",
      "Number of idf values between 2 and 3 is 117\n",
      "Number of idf values between 3 and 4 is 318\n",
      "Number of idf values between 4 and 5 is 593\n",
      "Number of idf values between 5 and 6 is 1133\n",
      "Number of idf values between 6 and 7 is 1621\n",
      "Number of idf values between 7 and 8 is 2674\n",
      "Number of idf values between 8 and 9 is 3709\n",
      "Number of idf values between 9 and 10 is 3745\n"
     ]
    }
   ],
   "source": [
    "#see how many words lie between idf values:https://stackoverflow.com/questions/9560207/how-to-count-values-in-a-certain-range-in-a-numpy-array\n",
    "def between(a,start):\n",
    "  return a[(start < a) & (a < i+1)].size\n",
    "\n",
    "for i in range(1,10):\n",
    "  print(\"Number of idf values between {} and {} is {}\".format(i,i+1,between(temp_vals,i)))\n"
   ]
  },
  {
   "cell_type": "markdown",
   "metadata": {
    "colab_type": "text",
    "id": "R1-Hx54qGVR3"
   },
   "source": [
    "Hence we take words which have an idf value between 2 to 8 because we are leaving out the most common words with low idf values and Leaving out very rare words which might not hava a glove vector representation."
   ]
  },
  {
   "cell_type": "code",
   "execution_count": 18,
   "metadata": {
    "colab": {
     "base_uri": "https://localhost:8080/",
     "height": 35
    },
    "colab_type": "code",
    "id": "R44K4w9q-ufH",
    "outputId": "9628b813-6dab-4567-d39f-cf4f806dc566"
   },
   "outputs": [
    {
     "name": "stderr",
     "output_type": "stream",
     "text": [
      "100%|██████████| 13935/13935 [00:00<00:00, 504593.99it/s]\n"
     ]
    }
   ],
   "source": [
    "final_words = []\n",
    "for i in tqdm(range(len(words))):\n",
    "  if (vals[i] >=2) and (vals[i] <=8):\n",
    "    final_words.append(words[i])"
   ]
  },
  {
   "cell_type": "code",
   "execution_count": 19,
   "metadata": {
    "colab": {
     "base_uri": "https://localhost:8080/",
     "height": 72
    },
    "colab_type": "code",
    "id": "Bum7VkMtJB9B",
    "outputId": "49aaac07-ede0-4e9b-f5e1-d34e14fa56f7"
   },
   "outputs": [
    {
     "name": "stdout",
     "output_type": "stream",
     "text": [
      "47251\n",
      "[2268, 23, 3457, 4130, 23, 3053, 4407, 3712, 23, 8, 556, 420, 502, 312, 1, 23, 3457, 477, 601, 2268, 123, 574, 118, 13508, 582, 123, 650, 222, 252, 204, 159, 1839, 831, 4337, 22, 2800, 3055, 3162, 343, 4338, 14569, 996, 211, 813, 667, 368, 456, 2698, 2651, 721, 49, 262, 7236, 4130, 51, 3, 1, 70, 6573, 438, 178, 104, 103, 2188, 302, 2, 254, 48, 4783, 820, 290, 3, 477, 11, 495, 10, 1404, 159, 2, 14, 160, 30, 3695, 12, 1, 298, 5333, 1165, 990, 4039, 88, 5, 101, 184, 30, 3695, 11, 81, 101, 70, 1165, 29, 1908, 18, 159, 11, 102, 106, 2011, 726, 1077, 2, 40, 3695, 1, 49, 65, 861, 101, 4055, 159]\n"
     ]
    }
   ],
   "source": [
    "from keras.preprocessing.text import one_hot,Tokenizer\n",
    "from keras.preprocessing.sequence import pad_sequences\n",
    "\n",
    "t = Tokenizer()\n",
    "t.fit_on_texts(x_train['text'].values)\n",
    "vocab = len(t.word_counts) + 1\n",
    "print(vocab)\n",
    "\n",
    "train_sequence = t.texts_to_sequences(x_train['text'].values)\n",
    "print(train_sequence[2])\n",
    "cv_sequence = t.texts_to_sequences(x_cv['text'].values)\n",
    "test_sequence = t.texts_to_sequences(x_test['text'].values)\n",
    "\n",
    "train_sequence = pad_sequences(train_sequence,maxlen=600)\n",
    "cv_sequence = pad_sequences(cv_sequence,maxlen=600)\n",
    "test_sequence = pad_sequences(test_sequence,maxlen=600)"
   ]
  },
  {
   "cell_type": "code",
   "execution_count": 20,
   "metadata": {
    "colab": {
     "base_uri": "https://localhost:8080/",
     "height": 35
    },
    "colab_type": "code",
    "id": "04fpjSxCJL9Y",
    "outputId": "db2cb52e-564f-4f9a-dcbb-b0aa64518523"
   },
   "outputs": [
    {
     "name": "stderr",
     "output_type": "stream",
     "text": [
      "100%|██████████| 47250/47250 [00:05<00:00, 8525.66it/s]\n"
     ]
    }
   ],
   "source": [
    "embedding_matrix = np.zeros((vocab,300))\n",
    "for word,i in tqdm(t.word_index.items()):\n",
    "    if (word in glove_words) and (word in final_words):\n",
    "        embedding_matrix[i] = model[word]\n",
    "    else:\n",
    "        embedding_matrix[i] = np.zeros(300)"
   ]
  },
  {
   "cell_type": "code",
   "execution_count": 21,
   "metadata": {
    "colab": {
     "base_uri": "https://localhost:8080/",
     "height": 228
    },
    "colab_type": "code",
    "id": "qHgcxcLIJSsc",
    "outputId": "06f4e6ed-7500-4783-fadf-984d5d18a771"
   },
   "outputs": [
    {
     "name": "stderr",
     "output_type": "stream",
     "text": [
      "WARNING: Logging before flag parsing goes to stderr.\n",
      "W0829 19:59:22.581775 140380302292864 deprecation_wrapper.py:119] From /usr/local/lib/python3.6/dist-packages/keras/backend/tensorflow_backend.py:66: The name tf.get_default_graph is deprecated. Please use tf.compat.v1.get_default_graph instead.\n",
      "\n",
      "W0829 19:59:22.599394 140380302292864 deprecation_wrapper.py:119] From /usr/local/lib/python3.6/dist-packages/keras/backend/tensorflow_backend.py:541: The name tf.placeholder is deprecated. Please use tf.compat.v1.placeholder instead.\n",
      "\n",
      "W0829 19:59:22.606252 140380302292864 deprecation_wrapper.py:119] From /usr/local/lib/python3.6/dist-packages/keras/backend/tensorflow_backend.py:4432: The name tf.random_uniform is deprecated. Please use tf.random.uniform instead.\n",
      "\n",
      "W0829 19:59:22.731657 140380302292864 deprecation_wrapper.py:119] From /usr/local/lib/python3.6/dist-packages/keras/backend/tensorflow_backend.py:190: The name tf.get_default_session is deprecated. Please use tf.compat.v1.get_default_session instead.\n",
      "\n",
      "W0829 19:59:22.733173 140380302292864 deprecation_wrapper.py:119] From /usr/local/lib/python3.6/dist-packages/keras/backend/tensorflow_backend.py:197: The name tf.ConfigProto is deprecated. Please use tf.compat.v1.ConfigProto instead.\n",
      "\n"
     ]
    }
   ],
   "source": [
    "from keras.layers import Input,Embedding,Flatten,Dense,concatenate,LSTM,Dropout\n",
    "from keras.models import Model\n",
    "#tf.keras.layers.\n",
    "# School state encoding\n",
    "state_input = Input(shape=(1,))\n",
    "state_embed = Embedding(51+1,3,input_length=1)(state_input)\n",
    "state_flatten = Flatten()(state_embed)\n",
    "\n",
    "# project grade encoding\n",
    "grade_input = Input(shape=(1,))\n",
    "grade_embed = Embedding(4+1,3,input_length=1)(grade_input)\n",
    "grade_flatten = Flatten()(grade_embed)\n",
    "\n",
    "# Teacher prefix encoding\n",
    "prefix_input = Input(shape=(1,))\n",
    "prefix_embed = Embedding(6+1,3,input_length=1)(prefix_input)\n",
    "prefix_flatten = Flatten()(prefix_embed)\n",
    "\n",
    "# categories encoding\n",
    "categories_input = Input(shape=(1,))\n",
    "categories_embed = Embedding(50+1,3,input_length=1)(categories_input)\n",
    "categories_flatten = Flatten()(categories_embed)\n",
    "#,dtype = 'float32'\n",
    "# subcategories encoding\n",
    "subcategories_input = Input(shape=(1,))\n",
    "subcategories_embed = Embedding(387+1,3,input_length=1)(subcategories_input)\n",
    "subcategories_flatten = Flatten()(subcategories_embed)\n",
    "\n",
    "# numerical features encoding\n",
    "num_input = Input(shape=(4,))\n",
    "num_dense = Dense(5,input_shape=(4,),activation = 'relu')(num_input)\n",
    "\n",
    "# text feature encoding\n",
    "text_input = Input(shape=(600,))\n",
    "text_embed = Embedding(vocab,300,weights=[embedding_matrix],trainable = False ,input_length=None)(text_input)\n",
    "text_lstm = LSTM(100,input_shape=(600,300),activation='relu',return_sequences= True )(text_embed)\n",
    "text_flatten = Flatten()(text_lstm)"
   ]
  },
  {
   "cell_type": "code",
   "execution_count": 22,
   "metadata": {
    "colab": {
     "base_uri": "https://localhost:8080/",
     "height": 1000
    },
    "colab_type": "code",
    "id": "yHrp5RJ6JjSw",
    "outputId": "83ace64a-1e96-4207-ea55-03f88ac651fa"
   },
   "outputs": [
    {
     "name": "stderr",
     "output_type": "stream",
     "text": [
      "W0829 19:59:23.861423 140380302292864 deprecation.py:506] From /usr/local/lib/python3.6/dist-packages/keras/backend/tensorflow_backend.py:3733: calling dropout (from tensorflow.python.ops.nn_ops) with keep_prob is deprecated and will be removed in a future version.\n",
      "Instructions for updating:\n",
      "Please use `rate` instead of `keep_prob`. Rate should be set to `rate = 1 - keep_prob`.\n",
      "W0829 19:59:23.862754 140380302292864 nn_ops.py:4224] Large dropout rate: 0.7 (>0.5). In TensorFlow 2.x, dropout() uses dropout rate instead of keep_prob. Please ensure that this is intended.\n",
      "W0829 19:59:23.901752 140380302292864 nn_ops.py:4224] Large dropout rate: 0.7 (>0.5). In TensorFlow 2.x, dropout() uses dropout rate instead of keep_prob. Please ensure that this is intended.\n"
     ]
    },
    {
     "name": "stdout",
     "output_type": "stream",
     "text": [
      "Model: \"model_1\"\n",
      "__________________________________________________________________________________________________\n",
      "Layer (type)                    Output Shape         Param #     Connected to                     \n",
      "==================================================================================================\n",
      "input_7 (InputLayer)            (None, 600)          0                                            \n",
      "__________________________________________________________________________________________________\n",
      "embedding_6 (Embedding)         (None, 600, 300)     14175300    input_7[0][0]                    \n",
      "__________________________________________________________________________________________________\n",
      "input_1 (InputLayer)            (None, 1)            0                                            \n",
      "__________________________________________________________________________________________________\n",
      "input_2 (InputLayer)            (None, 1)            0                                            \n",
      "__________________________________________________________________________________________________\n",
      "input_4 (InputLayer)            (None, 1)            0                                            \n",
      "__________________________________________________________________________________________________\n",
      "input_5 (InputLayer)            (None, 1)            0                                            \n",
      "__________________________________________________________________________________________________\n",
      "input_3 (InputLayer)            (None, 1)            0                                            \n",
      "__________________________________________________________________________________________________\n",
      "lstm_1 (LSTM)                   (None, 600, 100)     160400      embedding_6[0][0]                \n",
      "__________________________________________________________________________________________________\n",
      "embedding_1 (Embedding)         (None, 1, 3)         156         input_1[0][0]                    \n",
      "__________________________________________________________________________________________________\n",
      "embedding_2 (Embedding)         (None, 1, 3)         15          input_2[0][0]                    \n",
      "__________________________________________________________________________________________________\n",
      "embedding_4 (Embedding)         (None, 1, 3)         153         input_4[0][0]                    \n",
      "__________________________________________________________________________________________________\n",
      "embedding_5 (Embedding)         (None, 1, 3)         1164        input_5[0][0]                    \n",
      "__________________________________________________________________________________________________\n",
      "embedding_3 (Embedding)         (None, 1, 3)         21          input_3[0][0]                    \n",
      "__________________________________________________________________________________________________\n",
      "input_6 (InputLayer)            (None, 4)            0                                            \n",
      "__________________________________________________________________________________________________\n",
      "flatten_6 (Flatten)             (None, 60000)        0           lstm_1[0][0]                     \n",
      "__________________________________________________________________________________________________\n",
      "flatten_1 (Flatten)             (None, 3)            0           embedding_1[0][0]                \n",
      "__________________________________________________________________________________________________\n",
      "flatten_2 (Flatten)             (None, 3)            0           embedding_2[0][0]                \n",
      "__________________________________________________________________________________________________\n",
      "flatten_4 (Flatten)             (None, 3)            0           embedding_4[0][0]                \n",
      "__________________________________________________________________________________________________\n",
      "flatten_5 (Flatten)             (None, 3)            0           embedding_5[0][0]                \n",
      "__________________________________________________________________________________________________\n",
      "flatten_3 (Flatten)             (None, 3)            0           embedding_3[0][0]                \n",
      "__________________________________________________________________________________________________\n",
      "dense_1 (Dense)                 (None, 5)            25          input_6[0][0]                    \n",
      "__________________________________________________________________________________________________\n",
      "concatenate_1 (Concatenate)     (None, 60020)        0           flatten_6[0][0]                  \n",
      "                                                                 flatten_1[0][0]                  \n",
      "                                                                 flatten_2[0][0]                  \n",
      "                                                                 flatten_4[0][0]                  \n",
      "                                                                 flatten_5[0][0]                  \n",
      "                                                                 flatten_3[0][0]                  \n",
      "                                                                 dense_1[0][0]                    \n",
      "__________________________________________________________________________________________________\n",
      "dense_2 (Dense)                 (None, 320)          19206720    concatenate_1[0][0]              \n",
      "__________________________________________________________________________________________________\n",
      "dropout_1 (Dropout)             (None, 320)          0           dense_2[0][0]                    \n",
      "__________________________________________________________________________________________________\n",
      "dense_3 (Dense)                 (None, 160)          51360       dropout_1[0][0]                  \n",
      "__________________________________________________________________________________________________\n",
      "dropout_2 (Dropout)             (None, 160)          0           dense_3[0][0]                    \n",
      "__________________________________________________________________________________________________\n",
      "dense_4 (Dense)                 (None, 80)           12880       dropout_2[0][0]                  \n",
      "__________________________________________________________________________________________________\n",
      "dense_5 (Dense)                 (None, 2)            162         dense_4[0][0]                    \n",
      "==================================================================================================\n",
      "Total params: 33,608,356\n",
      "Trainable params: 19,433,056\n",
      "Non-trainable params: 14,175,300\n",
      "__________________________________________________________________________________________________\n",
      "None\n"
     ]
    },
    {
     "name": "stderr",
     "output_type": "stream",
     "text": [
      "/usr/local/lib/python3.6/dist-packages/ipykernel_launcher.py:10: UserWarning: Update your `Model` call to the Keras 2 API: `Model(inputs=[<tf.Tenso..., outputs=[<tf.Tenso...)`\n",
      "  # Remove the CWD from sys.path while we load stuff.\n"
     ]
    }
   ],
   "source": [
    "from keras.models import Model\n",
    "concat = concatenate([text_flatten,state_flatten,grade_flatten,categories_flatten,subcategories_flatten,prefix_flatten,num_dense])\n",
    "dense1 = Dense(320,activation='relu')(concat)\n",
    "dropout1 = Dropout(0.7)(dense1)\n",
    "dense2 = Dense(160,activation='relu')(dropout1)\n",
    "dropout2 = Dropout(0.7)(dense2)\n",
    "dense3 = Dense(80,activation='relu')(dropout2)\n",
    "output = Dense(2,activation='softmax')(dense3)\n",
    "\n",
    "nn = Model(input=[text_input,state_input,grade_input,categories_input,subcategories_input,prefix_input,num_input],output=[output])\n",
    "\n",
    "print(nn.summary())"
   ]
  },
  {
   "cell_type": "code",
   "execution_count": 0,
   "metadata": {
    "colab": {},
    "colab_type": "code",
    "id": "j9jpskn4JkIb"
   },
   "outputs": [],
   "source": [
    "#how to use auc as metric in keras: https://stackoverflow.com/questions/41032551/how-to-compute-receiving-operating-characteristic-roc-and-auc-in-keras\n",
    "from sklearn.metrics import roc_auc_score\n",
    "from keras.callbacks import EarlyStopping\n",
    "from keras.callbacks import TensorBoard\n",
    "# How to early stop if val_loss is increasing: https://machinelearningmastery.com/how-to-stop-training-deep-neural-networks-at-the-right-time-using-early-stopping/\n",
    "#es = EarlyStopping(monitor='val_loss',mode='min',verbose = 1)\n",
    " \n",
    "tensorboard =TensorBoard(log_dir=\"Model2\")\n",
    "\n",
    "import keras\n",
    "import numpy as np\n",
    "from sklearn.metrics import auc\n",
    "\n",
    "#Using auc as metric: https://datascience.stackexchange.com/questions/13746/how-to-define-a-custom-performance-metric-in-keras/20192#20192\n",
    "import sklearn.metrics as sklm\n",
    "#How to get roc-auc curve:https://stackoverflow.com/questions/41032551/how-to-compute-receiving-operating-characteristic-roc-and-auc-in-keras\n",
    "# Create own earlystopping:https://stackoverflow.com/questions/37293642/how-to-tell-keras-stop-training-based-on-loss-value\n",
    "class Metrics(keras.callbacks.Callback):\n",
    "    def __init__(self,training_data):\n",
    "      self.x = training_data[0]\n",
    "      self.y = training_data[1]\n",
    "      super(keras.callbacks.Callback, self).__init__()\n",
    "      \n",
    "      \n",
    "    def on_train_begin(self, logs={}):\n",
    "        self.cv_auc = []\n",
    "        self.train_auc = []\n",
    "        self.max_auc = -1\n",
    "        \n",
    "        \n",
    "    def on_epoch_end(self, epoch, logs={}):\n",
    "        train_score = np.asarray(self.model.predict(self.x,batch_size=2048,verbose=1))\n",
    "        #train_predict = np.round(train_score)\n",
    "        train_targ = self.y\n",
    "        print(\"Train AUC score\",sklm.roc_auc_score(train_targ,train_score))\n",
    "        self.train_auc.append(sklm.roc_auc_score(train_targ,train_score))\n",
    "        \n",
    "        cv_score = np.asarray(self.model.predict(self.validation_data[:7],batch_size=2048,verbose=1))\n",
    "        #cv_predict = np.round(cv_score)\n",
    "        cv_targ = self.validation_data[7]\n",
    "        print(\"Validation AUC score\",sklm.roc_auc_score(cv_targ,cv_score))\n",
    "        self.cv_auc.append(sklm.roc_auc_score(cv_targ,cv_score))\n",
    "        \n",
    "        if self.max_auc < self.cv_auc[-1]:\n",
    "          temp = self.model.save_weights('Model2.pkl',overwrite=True)\n",
    "          self.max_auc = self.cv_auc[-1]\n",
    "          print(\"Changed\")\n",
    "        else:\n",
    "          print(\"No change\")\n",
    "            \n",
    "            #print(\"Epoch:\",epoch,\"EarlyStopped by CV_AUC\")\n",
    "            #self.model.stop_training = True\n",
    "\n",
    "        return\n",
    "      \n",
    "auc_metric = Metrics(training_data=([train_sequence,x_train_new['state'],x_train_new['grade'],x_train_new['categories'],x_train_new['subcategories'],x_train_new['prefix'],x_train_new[['price','quantity','posted','resource']]],y_train_new))"
   ]
  },
  {
   "cell_type": "code",
   "execution_count": 31,
   "metadata": {
    "colab": {
     "base_uri": "https://localhost:8080/",
     "height": 1000
    },
    "colab_type": "code",
    "id": "_uuw76JoJz1D",
    "outputId": "94ef7f8c-d2f3-4ff9-dc50-a68864e075de"
   },
   "outputs": [
    {
     "name": "stderr",
     "output_type": "stream",
     "text": [
      "W0829 20:00:29.201051 140380302292864 deprecation_wrapper.py:119] From /usr/local/lib/python3.6/dist-packages/keras/optimizers.py:793: The name tf.train.Optimizer is deprecated. Please use tf.compat.v1.train.Optimizer instead.\n",
      "\n",
      "W0829 20:00:29.236373 140380302292864 deprecation.py:323] From /usr/local/lib/python3.6/dist-packages/tensorflow/python/ops/nn_impl.py:180: add_dispatch_support.<locals>.wrapper (from tensorflow.python.ops.array_ops) is deprecated and will be removed in a future version.\n",
      "Instructions for updating:\n",
      "Use tf.where in 2.0, which has the same broadcast rule as np.where\n"
     ]
    },
    {
     "name": "stdout",
     "output_type": "stream",
     "text": [
      "Train on 65548 samples, validate on 21850 samples\n"
     ]
    },
    {
     "name": "stderr",
     "output_type": "stream",
     "text": [
      "W0829 20:00:31.733674 140380302292864 deprecation_wrapper.py:119] From /usr/local/lib/python3.6/dist-packages/keras/callbacks.py:1122: The name tf.summary.merge_all is deprecated. Please use tf.compat.v1.summary.merge_all instead.\n",
      "\n",
      "W0829 20:00:31.735165 140380302292864 deprecation_wrapper.py:119] From /usr/local/lib/python3.6/dist-packages/keras/callbacks.py:1125: The name tf.summary.FileWriter is deprecated. Please use tf.compat.v1.summary.FileWriter instead.\n",
      "\n"
     ]
    },
    {
     "name": "stdout",
     "output_type": "stream",
     "text": [
      "Epoch 1/20\n",
      "65548/65548 [==============================] - 104s 2ms/step - loss: 0.5858 - acc: 0.8179 - val_loss: 0.4770 - val_acc: 0.8486\n",
      "65548/65548 [==============================] - 32s 484us/step\n",
      "Train AUC score 0.6529670336886083\n",
      "21850/21850 [==============================] - 10s 476us/step\n",
      "Validation AUC score 0.6415907602223485\n",
      "Changed\n",
      "Epoch 2/20\n",
      "65548/65548 [==============================] - 101s 2ms/step - loss: 0.4153 - acc: 0.8486 - val_loss: 0.4539 - val_acc: 0.8486\n",
      "65548/65548 [==============================] - 31s 477us/step\n",
      "Train AUC score 0.7268680276552325\n",
      "21850/21850 [==============================] - 10s 475us/step\n",
      "Validation AUC score 0.7144396802010374\n",
      "Changed\n",
      "Epoch 3/20\n",
      "65548/65548 [==============================] - 100s 2ms/step - loss: 0.3983 - acc: 0.8486 - val_loss: 0.4491 - val_acc: 0.8486\n",
      "65548/65548 [==============================] - 31s 476us/step\n",
      "Train AUC score 0.745180375658711\n",
      "21850/21850 [==============================] - 10s 475us/step\n",
      "Validation AUC score 0.7285689157949737\n",
      "Changed\n",
      "Epoch 4/20\n",
      "65548/65548 [==============================] - 100s 2ms/step - loss: 0.3886 - acc: 0.8486 - val_loss: 0.4587 - val_acc: 0.8486\n",
      "65548/65548 [==============================] - 31s 477us/step\n",
      "Train AUC score 0.7596034870594051\n",
      "21850/21850 [==============================] - 10s 469us/step\n",
      "Validation AUC score 0.7386327368474943\n",
      "Changed\n",
      "Epoch 5/20\n",
      "65548/65548 [==============================] - 100s 2ms/step - loss: 0.3840 - acc: 0.8486 - val_loss: 0.4309 - val_acc: 0.8486\n",
      "65548/65548 [==============================] - 31s 476us/step\n",
      "Train AUC score 0.7666276291212191\n",
      "21850/21850 [==============================] - 10s 473us/step\n",
      "Validation AUC score 0.7414628079408244\n",
      "Changed\n",
      "Epoch 6/20\n",
      "65548/65548 [==============================] - 100s 2ms/step - loss: 0.3801 - acc: 0.8486 - val_loss: 0.4430 - val_acc: 0.8486\n",
      "65548/65548 [==============================] - 31s 472us/step\n",
      "Train AUC score 0.7752347313333905\n",
      "21850/21850 [==============================] - 10s 472us/step\n",
      "Validation AUC score 0.7445852973836996\n",
      "Changed\n",
      "Epoch 7/20\n",
      "65548/65548 [==============================] - 100s 2ms/step - loss: 0.3742 - acc: 0.8486 - val_loss: 0.4621 - val_acc: 0.8486\n",
      "65548/65548 [==============================] - 31s 474us/step\n",
      "Train AUC score 0.7833725583589886\n",
      "21850/21850 [==============================] - 10s 473us/step\n",
      "Validation AUC score 0.7479031670420649\n",
      "Changed\n",
      "Epoch 8/20\n",
      "65548/65548 [==============================] - 100s 2ms/step - loss: 0.3695 - acc: 0.8486 - val_loss: 0.4765 - val_acc: 0.8486\n",
      "65548/65548 [==============================] - 31s 474us/step\n",
      "Train AUC score 0.795242387680902\n",
      "21850/21850 [==============================] - 10s 475us/step\n",
      "Validation AUC score 0.7505574782531323\n",
      "Changed\n",
      "Epoch 9/20\n",
      "65548/65548 [==============================] - 100s 2ms/step - loss: 0.3673 - acc: 0.8486 - val_loss: 0.4402 - val_acc: 0.8486\n",
      "65548/65548 [==============================] - 31s 474us/step\n",
      "Train AUC score 0.7994609998373814\n",
      "21850/21850 [==============================] - 10s 470us/step\n",
      "Validation AUC score 0.7508374683542158\n",
      "Changed\n",
      "Epoch 10/20\n",
      "65548/65548 [==============================] - 100s 2ms/step - loss: 0.3612 - acc: 0.8486 - val_loss: 0.4315 - val_acc: 0.8486\n",
      "65548/65548 [==============================] - 31s 477us/step\n",
      "Train AUC score 0.8140571187887727\n",
      "21850/21850 [==============================] - 10s 473us/step\n",
      "Validation AUC score 0.7503170385060063\n",
      "No change\n",
      "Epoch 11/20\n",
      "65548/65548 [==============================] - 100s 2ms/step - loss: 0.3593 - acc: 0.8486 - val_loss: 0.4336 - val_acc: 0.8486\n",
      "65548/65548 [==============================] - 31s 476us/step\n",
      "Train AUC score 0.8213487312548662\n",
      "21850/21850 [==============================] - 10s 470us/step\n",
      "Validation AUC score 0.7493568320298506\n",
      "No change\n",
      "Epoch 12/20\n",
      "65548/65548 [==============================] - 100s 2ms/step - loss: 0.3500 - acc: 0.8486 - val_loss: 0.4386 - val_acc: 0.8486\n",
      "65548/65548 [==============================] - 31s 476us/step\n",
      "Train AUC score 0.839441163163436\n",
      "21850/21850 [==============================] - 10s 476us/step\n",
      "Validation AUC score 0.7468137556799337\n",
      "No change\n",
      "Epoch 13/20\n",
      "65548/65548 [==============================] - 100s 2ms/step - loss: 0.3396 - acc: 0.8486 - val_loss: 0.4099 - val_acc: 0.8486\n",
      "65548/65548 [==============================] - 31s 472us/step\n",
      "Train AUC score 0.8535398676887871\n",
      "21850/21850 [==============================] - 10s 468us/step\n",
      "Validation AUC score 0.7425606664370741\n",
      "No change\n",
      "Epoch 14/20\n",
      "65548/65548 [==============================] - 100s 2ms/step - loss: 0.3348 - acc: 0.8486 - val_loss: 0.4140 - val_acc: 0.8486\n",
      "65548/65548 [==============================] - 31s 474us/step\n",
      "Train AUC score 0.8687326813460047\n",
      "21850/21850 [==============================] - 10s 476us/step\n",
      "Validation AUC score 0.7386698585994571\n",
      "No change\n",
      "Epoch 15/20\n",
      "65548/65548 [==============================] - 100s 2ms/step - loss: 0.3222 - acc: 0.8486 - val_loss: 0.3988 - val_acc: 0.8486\n",
      "65548/65548 [==============================] - 31s 471us/step\n",
      "Train AUC score 0.8910099694638216\n",
      "21850/21850 [==============================] - 11s 481us/step\n",
      "Validation AUC score 0.7319616198084211\n",
      "No change\n",
      "Epoch 16/20\n",
      "65548/65548 [==============================] - 100s 2ms/step - loss: 0.3130 - acc: 0.8486 - val_loss: 0.4135 - val_acc: 0.8486\n",
      "65548/65548 [==============================] - 31s 471us/step\n",
      "Train AUC score 0.9065818513453131\n",
      "21850/21850 [==============================] - 10s 474us/step\n",
      "Validation AUC score 0.7268437771124278\n",
      "No change\n",
      "Epoch 17/20\n",
      "65548/65548 [==============================] - 100s 2ms/step - loss: 0.3078 - acc: 0.8486 - val_loss: 0.3911 - val_acc: 0.8486\n",
      "65548/65548 [==============================] - 31s 473us/step\n",
      "Train AUC score 0.9111227582812702\n",
      "21850/21850 [==============================] - 10s 476us/step\n",
      "Validation AUC score 0.7224281263796885\n",
      "No change\n",
      "Epoch 18/20\n",
      "65548/65548 [==============================] - 100s 2ms/step - loss: 0.2965 - acc: 0.8486 - val_loss: 0.4005 - val_acc: 0.8486\n",
      "65548/65548 [==============================] - 31s 474us/step\n",
      "Train AUC score 0.9297768174926823\n",
      "21850/21850 [==============================] - 10s 472us/step\n",
      "Validation AUC score 0.7169620604611388\n",
      "No change\n",
      "Epoch 19/20\n",
      "65548/65548 [==============================] - 100s 2ms/step - loss: 0.2842 - acc: 0.8570 - val_loss: 0.4076 - val_acc: 0.8499\n",
      "65548/65548 [==============================] - 31s 474us/step\n",
      "Train AUC score 0.9383859901384505\n",
      "21850/21850 [==============================] - 10s 472us/step\n",
      "Validation AUC score 0.7174252429445486\n",
      "No change\n",
      "Epoch 20/20\n",
      "65548/65548 [==============================] - 100s 2ms/step - loss: 0.2721 - acc: 0.8799 - val_loss: 0.4172 - val_acc: 0.8494\n",
      "65548/65548 [==============================] - 31s 470us/step\n",
      "Train AUC score 0.9510331735358917\n",
      "21850/21850 [==============================] - 10s 472us/step\n",
      "Validation AUC score 0.7091867078081624\n",
      "No change\n"
     ]
    }
   ],
   "source": [
    "nn.compile(optimizer='adam',loss='binary_crossentropy',metrics=['accuracy'])\n",
    "result = nn.fit([train_sequence,x_train_new['state'],x_train_new['grade'],x_train_new['categories'],x_train_new['subcategories'],x_train_new['prefix'],x_train_new[['price','quantity','posted','resource']]],y_train_new,batch_size=2048,callbacks=[tensorboard,auc_metric],epochs = 20,verbose=1,validation_data=([cv_sequence,x_cv_new['state'],x_cv_new['grade'],x_cv_new['categories'],x_cv_new['subcategories'],x_cv_new['prefix'],x_cv_new[['price','quantity','posted','resource']]],y_cv_new))"
   ]
  },
  {
   "cell_type": "code",
   "execution_count": 32,
   "metadata": {
    "colab": {
     "base_uri": "https://localhost:8080/",
     "height": 283
    },
    "colab_type": "code",
    "id": "8hZK1mqWJ1P6",
    "outputId": "a40cdd12-00e2-44c6-d0db-ba03101a65f4"
   },
   "outputs": [
    {
     "data": {
      "image/png": "[encoded data removed]",
      "text/plain": [
       "<Figure size 432x288 with 1 Axes>"
      ]
     },
     "metadata": {
      "tags": []
     },
     "output_type": "display_data"
    }
   ],
   "source": [
    "k = [i for i in range(1,len(auc_metric.cv_auc)+1)]\n",
    "plt.plot(k,auc_metric.train_auc,label=\"Train AUC\")\n",
    "plt.scatter(k,auc_metric.train_auc)\n",
    "plt.plot(k,auc_metric.cv_auc,label=\"Validation AUC\")\n",
    "plt.scatter(k,auc_metric.cv_auc)\n",
    "plt.xlabel('epochs')\n",
    "plt.ylabel('Validation AUC')\n",
    "plt.grid()\n",
    "plt.legend()\n",
    "plt.show()"
   ]
  },
  {
   "cell_type": "code",
   "execution_count": 33,
   "metadata": {
    "colab": {
     "base_uri": "https://localhost:8080/",
     "height": 104
    },
    "colab_type": "code",
    "id": "zwhrBgxgKAlR",
    "outputId": "7eba5ac7-d3a1-4e8f-e3f6-8b1581aa8a5b"
   },
   "outputs": [
    {
     "name": "stdout",
     "output_type": "stream",
     "text": [
      "21850/21850 [==============================] - 11s 482us/step\n",
      "21850/21850 [==============================] - 10s 473us/step\n",
      "Test Accuracy 0.8486041191513533\n",
      "Test loss 0.44099990070820944\n",
      "Test AUC 0.7465556724255022\n"
     ]
    }
   ],
   "source": [
    "nn.load_weights('Model2.pkl')\n",
    "score = nn.evaluate([test_sequence,x_test_new['state'],x_test_new['grade'],x_test_new['categories'],x_test_new['subcategories'],x_test_new['prefix'],x_test_new[['price','quantity','posted','resource']]],y_test_new,verbose=1,batch_size=2048)\n",
    "y_test_hat = nn.predict([test_sequence,x_test_new['state'],x_test_new['grade'],x_test_new['categories'],x_test_new['subcategories'],x_test_new['prefix'],x_test_new[['price','quantity','posted','resource']]],verbose=1,batch_size=2048)\n",
    "\n",
    "print(\"Test Accuracy\",score[1])\n",
    "print(\"Test loss\",score[0])\n",
    "print(\"Test AUC\",roc_auc_score(y_test,y_test_hat[:,1]))"
   ]
  },
  {
   "cell_type": "markdown",
   "metadata": {
    "colab_type": "text",
    "id": "caL7L37MPKZ1"
   },
   "source": [
    "<h3>Model 3 </h3>"
   ]
  },
  {
   "cell_type": "code",
   "execution_count": 8,
   "metadata": {
    "colab": {
     "base_uri": "https://localhost:8080/",
     "height": 277
    },
    "colab_type": "code",
    "id": "eKNHe1u6LO1N",
    "outputId": "76203401-d671-4818-bf6e-d62666dcdfd4"
   },
   "outputs": [
    {
     "name": "stdout",
     "output_type": "stream",
     "text": [
      "(65548, 6)\n",
      "(21850, 6)\n",
      "(21850, 6)\n",
      "(65548, 51)\n",
      "(21850, 51)\n",
      "(21850, 51)\n",
      "(65548, 4)\n",
      "(21850, 4)\n",
      "(21850, 4)\n",
      "(65548, 8)\n",
      "(21850, 8)\n",
      "(21850, 8)\n",
      "(65548, 29)\n",
      "(21850, 29)\n",
      "(21850, 29)\n"
     ]
    }
   ],
   "source": [
    "# converting all categorical features into one-hot-encoding\n",
    "from sklearn.feature_extraction.text import CountVectorizer\n",
    "\n",
    "ohe1 = CountVectorizer()\n",
    "ohe1.fit(x_train[\"teacher_prefix\"].fillna(\"None\").values)\n",
    "x_train_prefix_ohe = ohe1.transform(x_train[\"teacher_prefix\"].fillna(\"None\").values)\n",
    "x_cv_prefix_ohe = ohe1.transform(x_cv[\"teacher_prefix\"].fillna(\"None\").values)\n",
    "x_test_prefix_ohe = ohe1.transform(x_test[\"teacher_prefix\"].fillna(\"None\").values)\n",
    "print(x_train_prefix_ohe.shape)\n",
    "print(x_cv_prefix_ohe.shape)\n",
    "print(x_test_prefix_ohe.shape)\n",
    "\n",
    "ohe2 = CountVectorizer()\n",
    "ohe2.fit(x_train[\"school_state\"].values)\n",
    "x_train_state_ohe = ohe2.transform(x_train[\"school_state\"].values)\n",
    "x_cv_state_ohe = ohe2.transform(x_cv[\"school_state\"].values)\n",
    "x_test_state_ohe = ohe2.transform(x_test[\"school_state\"].values)\n",
    "print(x_train_state_ohe.shape)\n",
    "print(x_cv_state_ohe.shape)\n",
    "print(x_test_state_ohe.shape)\n",
    "\n",
    "ohe3 = CountVectorizer(vocabulary = x_train[\"project_grade_category\"].unique(),lowercase = False)\n",
    "ohe3.fit(x_train[\"project_grade_category\"].values)\n",
    "x_train_grade_ohe = ohe3.transform(x_train[\"project_grade_category\"].values)\n",
    "x_cv_grade_ohe = ohe3.transform(x_cv[\"project_grade_category\"].values)\n",
    "x_test_grade_ohe = ohe3.transform(x_test[\"project_grade_category\"].values)\n",
    "print(x_train_grade_ohe.shape)\n",
    "print(x_cv_grade_ohe.shape)\n",
    "print(x_test_grade_ohe.shape)\n",
    "\n",
    "ohe4 = CountVectorizer()\n",
    "ohe4.fit(x_train[\"categories\"].values)\n",
    "x_train_categories_ohe = ohe4.transform(x_train[\"categories\"].values)\n",
    "x_cv_categories_ohe = ohe4.transform(x_cv[\"categories\"].values)\n",
    "x_test_categories_ohe = ohe4.transform(x_test[\"categories\"].values)\n",
    "print(x_train_categories_ohe.shape)\n",
    "print(x_cv_categories_ohe.shape)\n",
    "print(x_test_categories_ohe.shape)\n",
    "\n",
    "ohe5 = CountVectorizer()\n",
    "ohe5.fit(x_train[\"subcategories\"].values)\n",
    "x_train_subcategories_ohe = ohe5.transform(x_train[\"subcategories\"].values)\n",
    "x_cv_subcategories_ohe = ohe5.transform(x_cv[\"subcategories\"].values)\n",
    "x_test_subcategories_ohe = ohe5.transform(x_test[\"subcategories\"].values)\n",
    "print(x_train_subcategories_ohe.shape)\n",
    "print(x_cv_subcategories_ohe.shape)\n",
    "print(x_test_subcategories_ohe.shape)"
   ]
  },
  {
   "cell_type": "code",
   "execution_count": 14,
   "metadata": {
    "colab": {
     "base_uri": "https://localhost:8080/",
     "height": 69
    },
    "colab_type": "code",
    "id": "_aYMkwBZU9Hq",
    "outputId": "5e3f41be-8406-47d1-bdef-9ac63f1ab0c2"
   },
   "outputs": [
    {
     "name": "stdout",
     "output_type": "stream",
     "text": [
      "(65548, 102)\n",
      "(21850, 102)\n",
      "(21850, 102)\n"
     ]
    }
   ],
   "source": [
    "#hstacking the columns\n",
    "from scipy.sparse import hstack\n",
    "other_train = hstack((x_train_prefix_ohe,x_train_state_ohe,x_train_grade_ohe,x_train_categories_ohe,x_train_subcategories_ohe,price_train,quantity_train,posted_train,num_train)).toarray()\n",
    "other_cv = hstack((x_cv_prefix_ohe,x_cv_state_ohe,x_cv_grade_ohe,x_cv_categories_ohe,x_cv_subcategories_ohe,price_cv,quantity_cv,posted_cv,num_cv)).toarray()\n",
    "other_test = hstack((x_test_prefix_ohe,x_test_state_ohe,x_test_grade_ohe,x_test_categories_ohe,x_test_subcategories_ohe,price_test,quantity_test,posted_test,num_test)).toarray()\n",
    "\n",
    "\n",
    "print(other_train.shape)\n",
    "print(other_cv.shape)\n",
    "print(other_test.shape)"
   ]
  },
  {
   "cell_type": "code",
   "execution_count": 15,
   "metadata": {
    "colab": {
     "base_uri": "https://localhost:8080/",
     "height": 1000
    },
    "colab_type": "code",
    "id": "qz6gW8rRPunX",
    "outputId": "345836a8-0b8f-4945-8904-4a91933116b3"
   },
   "outputs": [
    {
     "name": "stderr",
     "output_type": "stream",
     "text": [
      "WARNING: Logging before flag parsing goes to stderr.\n",
      "W0829 19:04:24.509363 140633414264704 deprecation_wrapper.py:119] From /usr/local/lib/python3.6/dist-packages/keras/backend/tensorflow_backend.py:66: The name tf.get_default_graph is deprecated. Please use tf.compat.v1.get_default_graph instead.\n",
      "\n",
      "W0829 19:04:24.557285 140633414264704 deprecation_wrapper.py:119] From /usr/local/lib/python3.6/dist-packages/keras/backend/tensorflow_backend.py:541: The name tf.placeholder is deprecated. Please use tf.compat.v1.placeholder instead.\n",
      "\n",
      "W0829 19:04:24.567198 140633414264704 deprecation_wrapper.py:119] From /usr/local/lib/python3.6/dist-packages/keras/backend/tensorflow_backend.py:4432: The name tf.random_uniform is deprecated. Please use tf.random.uniform instead.\n",
      "\n",
      "W0829 19:04:24.579282 140633414264704 deprecation_wrapper.py:119] From /usr/local/lib/python3.6/dist-packages/keras/backend/tensorflow_backend.py:190: The name tf.get_default_session is deprecated. Please use tf.compat.v1.get_default_session instead.\n",
      "\n",
      "W0829 19:04:24.580343 140633414264704 deprecation_wrapper.py:119] From /usr/local/lib/python3.6/dist-packages/keras/backend/tensorflow_backend.py:197: The name tf.ConfigProto is deprecated. Please use tf.compat.v1.ConfigProto instead.\n",
      "\n",
      "W0829 19:04:29.185142 140633414264704 deprecation.py:506] From /usr/local/lib/python3.6/dist-packages/keras/backend/tensorflow_backend.py:3733: calling dropout (from tensorflow.python.ops.nn_ops) with keep_prob is deprecated and will be removed in a future version.\n",
      "Instructions for updating:\n",
      "Please use `rate` instead of `keep_prob`. Rate should be set to `rate = 1 - keep_prob`.\n",
      "W0829 19:04:29.187683 140633414264704 nn_ops.py:4224] Large dropout rate: 0.7 (>0.5). In TensorFlow 2.x, dropout() uses dropout rate instead of keep_prob. Please ensure that this is intended.\n",
      "W0829 19:04:29.224741 140633414264704 nn_ops.py:4224] Large dropout rate: 0.7 (>0.5). In TensorFlow 2.x, dropout() uses dropout rate instead of keep_prob. Please ensure that this is intended.\n"
     ]
    },
    {
     "name": "stdout",
     "output_type": "stream",
     "text": [
      "Model: \"model_1\"\n",
      "__________________________________________________________________________________________________\n",
      "Layer (type)                    Output Shape         Param #     Connected to                     \n",
      "==================================================================================================\n",
      "input_1 (InputLayer)            (None, 600)          0                                            \n",
      "__________________________________________________________________________________________________\n",
      "input_2 (InputLayer)            (None, 102, 1)       0                                            \n",
      "__________________________________________________________________________________________________\n",
      "embedding_1 (Embedding)         (None, 600, 300)     14175300    input_1[0][0]                    \n",
      "__________________________________________________________________________________________________\n",
      "conv1d_1 (Conv1D)               (None, 98, 100)      600         input_2[0][0]                    \n",
      "__________________________________________________________________________________________________\n",
      "lstm_1 (LSTM)                   (None, 600, 100)     160400      embedding_1[0][0]                \n",
      "__________________________________________________________________________________________________\n",
      "conv1d_2 (Conv1D)               (None, 94, 100)      50100       conv1d_1[0][0]                   \n",
      "__________________________________________________________________________________________________\n",
      "flatten_1 (Flatten)             (None, 60000)        0           lstm_1[0][0]                     \n",
      "__________________________________________________________________________________________________\n",
      "flatten_2 (Flatten)             (None, 9400)         0           conv1d_2[0][0]                   \n",
      "__________________________________________________________________________________________________\n",
      "concatenate_1 (Concatenate)     (None, 69400)        0           flatten_1[0][0]                  \n",
      "                                                                 flatten_2[0][0]                  \n",
      "__________________________________________________________________________________________________\n",
      "dense_1 (Dense)                 (None, 309)          21444909    concatenate_1[0][0]              \n",
      "__________________________________________________________________________________________________\n",
      "dropout_1 (Dropout)             (None, 309)          0           dense_1[0][0]                    \n",
      "__________________________________________________________________________________________________\n",
      "dense_2 (Dense)                 (None, 154)          47740       dropout_1[0][0]                  \n",
      "__________________________________________________________________________________________________\n",
      "dropout_2 (Dropout)             (None, 154)          0           dense_2[0][0]                    \n",
      "__________________________________________________________________________________________________\n",
      "dense_3 (Dense)                 (None, 77)           11935       dropout_2[0][0]                  \n",
      "__________________________________________________________________________________________________\n",
      "dense_4 (Dense)                 (None, 2)            156         dense_3[0][0]                    \n",
      "==================================================================================================\n",
      "Total params: 35,891,140\n",
      "Trainable params: 21,715,840\n",
      "Non-trainable params: 14,175,300\n",
      "__________________________________________________________________________________________________\n"
     ]
    },
    {
     "name": "stderr",
     "output_type": "stream",
     "text": [
      "/usr/local/lib/python3.6/dist-packages/ipykernel_launcher.py:24: UserWarning: Update your `Model` call to the Keras 2 API: `Model(inputs=[<tf.Tenso..., outputs=[<tf.Tenso...)`\n"
     ]
    }
   ],
   "source": [
    "from keras.layers import Input,Embedding,Flatten,Dense,concatenate,LSTM,Dropout,Conv1D\n",
    "from keras.models import Model\n",
    "\n",
    "#text feature encoding\n",
    "text_input = Input(shape=(600,))\n",
    "text_embed = Embedding(vocab,300,weights=[embedding_matrix],trainable = False ,input_length=None)(text_input)\n",
    "text_lstm = LSTM(100,input_shape=(600,300),activation='relu',return_sequences= True )(text_embed)\n",
    "text_flatten = Flatten()(text_lstm)\n",
    "\n",
    "# other than text features encoding\n",
    "other_input = Input(shape=(102,1))\n",
    "other_conv1 = Conv1D(100,kernel_size=5,activation='relu',padding='valid')(other_input)\n",
    "other_conv2 = Conv1D(100,kernel_size=5,activation='relu',padding='valid')(other_conv1)\n",
    "other_flatten = Flatten()(other_conv2)\n",
    "\n",
    "concat = concatenate([text_flatten,other_flatten])\n",
    "dense1 = Dense(309,activation='relu')(concat)\n",
    "dropout1 = Dropout(0.7)(dense1)\n",
    "dense2 = Dense(154,activation='relu')(dropout1)\n",
    "dropout2 = Dropout(0.7)(dense2)\n",
    "dense3 = Dense(77,activation='relu')(dropout2)\n",
    "output = Dense(2,activation='softmax')(dense3)\n",
    "\n",
    "nn = Model(input=[text_input,other_input],output=[output])\n",
    "nn.summary()"
   ]
  },
  {
   "cell_type": "code",
   "execution_count": 0,
   "metadata": {
    "colab": {},
    "colab_type": "code",
    "id": "lmXL3Z82S616"
   },
   "outputs": [],
   "source": [
    "#how to use auc as metric in keras: https://stackoverflow.com/questions/41032551/how-to-compute-receiving-operating-characteristic-roc-and-auc-in-keras\n",
    "from sklearn.metrics import roc_auc_score\n",
    "from keras.callbacks import EarlyStopping\n",
    "from keras.callbacks import TensorBoard\n",
    "# How to early stop if val_loss is increasing: https://machinelearningmastery.com/how-to-stop-training-deep-neural-networks-at-the-right-time-using-early-stopping/\n",
    "#es = EarlyStopping(monitor='val_loss',mode='min',verbose = 1)\n",
    " \n",
    "tensorboard =TensorBoard(log_dir=\"Model3\")\n",
    "\n",
    "import keras\n",
    "import numpy as np\n",
    "from sklearn.metrics import auc\n",
    "\n",
    "#Using auc as metric: https://datascience.stackexchange.com/questions/13746/how-to-define-a-custom-performance-metric-in-keras/20192#20192\n",
    "import sklearn.metrics as sklm\n",
    "#How to get roc-auc curve:https://stackoverflow.com/questions/41032551/how-to-compute-receiving-operating-characteristic-roc-and-auc-in-keras\n",
    "# Create own earlystopping:https://stackoverflow.com/questions/37293642/how-to-tell-keras-stop-training-based-on-loss-value\n",
    "class Metrics(keras.callbacks.Callback):\n",
    "    def __init__(self,training_data):\n",
    "      self.x = training_data[0]\n",
    "      self.y = training_data[1]\n",
    "      super(keras.callbacks.Callback, self).__init__()\n",
    "      \n",
    "      \n",
    "    def on_train_begin(self, logs={}):\n",
    "        self.cv_auc = []\n",
    "        self.train_auc = []\n",
    "        self.max_auc = -1\n",
    "        \n",
    "        \n",
    "    def on_epoch_end(self, epoch, logs={}):\n",
    "        train_score = np.asarray(self.model.predict(self.x,batch_size=2048,verbose=1))\n",
    "        #train_predict = np.round(train_score)\n",
    "        train_targ = self.y\n",
    "        print(\"Train AUC score\",sklm.roc_auc_score(train_targ,train_score))\n",
    "        self.train_auc.append(sklm.roc_auc_score(train_targ,train_score))\n",
    "        \n",
    "        cv_score = np.asarray(self.model.predict(self.validation_data[:2],batch_size=2048,verbose=1))\n",
    "        #cv_predict = np.round(cv_score)\n",
    "        cv_targ = self.validation_data[2]\n",
    "        print(\"Validation AUC score\",sklm.roc_auc_score(cv_targ,cv_score))\n",
    "        self.cv_auc.append(sklm.roc_auc_score(cv_targ,cv_score))\n",
    "        \n",
    "        if self.max_auc < self.cv_auc[-1]:\n",
    "          temp = self.model.save_weights('Model3.pkl',overwrite=True)\n",
    "          self.max_auc = self.cv_auc[-1]\n",
    "          print(\"Changed\")\n",
    "        else:\n",
    "          print(\"No change\")\n",
    "            \n",
    "            #print(\"Epoch:\",epoch,\"EarlyStopped by CV_AUC\")\n",
    "            #self.model.stop_training = True\n",
    "\n",
    "        return\n",
    "      \n",
    "auc_metric = Metrics(training_data=([train_sequence,other_train.reshape(65548,102,1)],y_train_new))"
   ]
  },
  {
   "cell_type": "code",
   "execution_count": 17,
   "metadata": {
    "colab": {
     "base_uri": "https://localhost:8080/",
     "height": 1000
    },
    "colab_type": "code",
    "id": "nh1P0V0_TDsP",
    "outputId": "279d2a73-e358-4f82-bf4f-f8510792f909"
   },
   "outputs": [
    {
     "name": "stderr",
     "output_type": "stream",
     "text": [
      "W0829 19:04:50.922564 140633414264704 deprecation_wrapper.py:119] From /usr/local/lib/python3.6/dist-packages/keras/optimizers.py:793: The name tf.train.Optimizer is deprecated. Please use tf.compat.v1.train.Optimizer instead.\n",
      "\n",
      "W0829 19:04:50.954940 140633414264704 deprecation.py:323] From /usr/local/lib/python3.6/dist-packages/tensorflow/python/ops/nn_impl.py:180: add_dispatch_support.<locals>.wrapper (from tensorflow.python.ops.array_ops) is deprecated and will be removed in a future version.\n",
      "Instructions for updating:\n",
      "Use tf.where in 2.0, which has the same broadcast rule as np.where\n"
     ]
    },
    {
     "name": "stdout",
     "output_type": "stream",
     "text": [
      "Train on 65548 samples, validate on 21850 samples\n"
     ]
    },
    {
     "name": "stderr",
     "output_type": "stream",
     "text": [
      "W0829 19:04:53.335253 140633414264704 deprecation_wrapper.py:119] From /usr/local/lib/python3.6/dist-packages/keras/callbacks.py:1122: The name tf.summary.merge_all is deprecated. Please use tf.compat.v1.summary.merge_all instead.\n",
      "\n",
      "W0829 19:04:53.336883 140633414264704 deprecation_wrapper.py:119] From /usr/local/lib/python3.6/dist-packages/keras/callbacks.py:1125: The name tf.summary.FileWriter is deprecated. Please use tf.compat.v1.summary.FileWriter instead.\n",
      "\n"
     ]
    },
    {
     "name": "stdout",
     "output_type": "stream",
     "text": [
      "Epoch 1/20\n",
      "65548/65548 [==============================] - 110s 2ms/step - loss: 0.5298 - acc: 0.8170 - val_loss: 0.5530 - val_acc: 0.8486\n",
      "65548/65548 [==============================] - 33s 496us/step\n",
      "Train AUC score 0.6569317174894262\n",
      "21850/21850 [==============================] - 11s 491us/step\n",
      "Validation AUC score 0.6488942346928273\n",
      "Changed\n",
      "Epoch 2/20\n",
      "65548/65548 [==============================] - 104s 2ms/step - loss: 0.4135 - acc: 0.8486 - val_loss: 0.5189 - val_acc: 0.8486\n",
      "65548/65548 [==============================] - 32s 495us/step\n",
      "Train AUC score 0.7307021151888358\n",
      "21850/21850 [==============================] - 11s 486us/step\n",
      "Validation AUC score 0.7183453367394395\n",
      "Changed\n",
      "Epoch 3/20\n",
      "65548/65548 [==============================] - 104s 2ms/step - loss: 0.3918 - acc: 0.8486 - val_loss: 0.4845 - val_acc: 0.8486\n",
      "65548/65548 [==============================] - 32s 491us/step\n",
      "Train AUC score 0.7582216347540484\n",
      "21850/21850 [==============================] - 11s 489us/step\n",
      "Validation AUC score 0.7438334902226521\n",
      "Changed\n",
      "Epoch 4/20\n",
      "65548/65548 [==============================] - 104s 2ms/step - loss: 0.3824 - acc: 0.8486 - val_loss: 0.4876 - val_acc: 0.8486\n",
      "65548/65548 [==============================] - 32s 493us/step\n",
      "Train AUC score 0.772460920452646\n",
      "21850/21850 [==============================] - 11s 498us/step\n",
      "Validation AUC score 0.7541470008990228\n",
      "Changed\n",
      "Epoch 5/20\n",
      "65548/65548 [==============================] - 104s 2ms/step - loss: 0.3727 - acc: 0.8486 - val_loss: 0.4556 - val_acc: 0.8486\n",
      "65548/65548 [==============================] - 32s 493us/step\n",
      "Train AUC score 0.7815587598066527\n",
      "21850/21850 [==============================] - 11s 489us/step\n",
      "Validation AUC score 0.759091112980863\n",
      "Changed\n",
      "Epoch 6/20\n",
      "65548/65548 [==============================] - 104s 2ms/step - loss: 0.3702 - acc: 0.8486 - val_loss: 0.4953 - val_acc: 0.8486\n",
      "65548/65548 [==============================] - 32s 492us/step\n",
      "Train AUC score 0.7915258112922952\n",
      "21850/21850 [==============================] - 11s 487us/step\n",
      "Validation AUC score 0.7624677580673636\n",
      "Changed\n",
      "Epoch 7/20\n",
      "65548/65548 [==============================] - 104s 2ms/step - loss: 0.3712 - acc: 0.8486 - val_loss: 0.4463 - val_acc: 0.8486\n",
      "65548/65548 [==============================] - 32s 488us/step\n",
      "Train AUC score 0.7958756758967158\n",
      "21850/21850 [==============================] - 11s 493us/step\n",
      "Validation AUC score 0.761574741554777\n",
      "No change\n",
      "Epoch 8/20\n",
      "65548/65548 [==============================] - 104s 2ms/step - loss: 0.3625 - acc: 0.8486 - val_loss: 0.4433 - val_acc: 0.8486\n",
      "65548/65548 [==============================] - 32s 494us/step\n",
      "Train AUC score 0.8088333831242726\n",
      "21850/21850 [==============================] - 11s 493us/step\n",
      "Validation AUC score 0.7649877545486615\n",
      "Changed\n",
      "Epoch 9/20\n",
      "65548/65548 [==============================] - 104s 2ms/step - loss: 0.3583 - acc: 0.8486 - val_loss: 0.4895 - val_acc: 0.8486\n",
      "65548/65548 [==============================] - 32s 489us/step\n",
      "Train AUC score 0.8220611320426272\n",
      "21850/21850 [==============================] - 11s 492us/step\n",
      "Validation AUC score 0.7638781197776398\n",
      "No change\n",
      "Epoch 10/20\n",
      "65548/65548 [==============================] - 103s 2ms/step - loss: 0.3534 - acc: 0.8486 - val_loss: 0.4424 - val_acc: 0.8486\n",
      "65548/65548 [==============================] - 32s 488us/step\n",
      "Train AUC score 0.8285191939202434\n",
      "21850/21850 [==============================] - 11s 481us/step\n",
      "Validation AUC score 0.7622645011947335\n",
      "No change\n",
      "Epoch 11/20\n",
      "65548/65548 [==============================] - 103s 2ms/step - loss: 0.3454 - acc: 0.8486 - val_loss: 0.4398 - val_acc: 0.8486\n",
      "65548/65548 [==============================] - 32s 488us/step\n",
      "Train AUC score 0.8425504581015473\n",
      "21850/21850 [==============================] - 11s 491us/step\n",
      "Validation AUC score 0.7605583879194231\n",
      "No change\n",
      "Epoch 12/20\n",
      "65548/65548 [==============================] - 103s 2ms/step - loss: 0.3392 - acc: 0.8486 - val_loss: 0.4110 - val_acc: 0.8486\n",
      "65548/65548 [==============================] - 32s 488us/step\n",
      "Train AUC score 0.8558116731426587\n",
      "21850/21850 [==============================] - 11s 487us/step\n",
      "Validation AUC score 0.7589007081395931\n",
      "No change\n",
      "Epoch 13/20\n",
      "65548/65548 [==============================] - 103s 2ms/step - loss: 0.3294 - acc: 0.8486 - val_loss: 0.4294 - val_acc: 0.8486\n",
      "65548/65548 [==============================] - 32s 486us/step\n",
      "Train AUC score 0.8752881722495691\n",
      "21850/21850 [==============================] - 11s 489us/step\n",
      "Validation AUC score 0.7536178101543566\n",
      "No change\n",
      "Epoch 14/20\n",
      "65548/65548 [==============================] - 103s 2ms/step - loss: 0.3204 - acc: 0.8486 - val_loss: 0.4047 - val_acc: 0.8486\n",
      "65548/65548 [==============================] - 32s 487us/step\n",
      "Train AUC score 0.8913694084197905\n",
      "21850/21850 [==============================] - 11s 488us/step\n",
      "Validation AUC score 0.748093160324943\n",
      "No change\n",
      "Epoch 15/20\n",
      "65548/65548 [==============================] - 103s 2ms/step - loss: 0.3080 - acc: 0.8486 - val_loss: 0.3920 - val_acc: 0.8486\n",
      "65548/65548 [==============================] - 32s 488us/step\n",
      "Train AUC score 0.9092932516952128\n",
      "21850/21850 [==============================] - 11s 488us/step\n",
      "Validation AUC score 0.7468941725597347\n",
      "No change\n",
      "Epoch 16/20\n",
      "65548/65548 [==============================] - 104s 2ms/step - loss: 0.3045 - acc: 0.8545 - val_loss: 0.4032 - val_acc: 0.8552\n",
      "65548/65548 [==============================] - 32s 492us/step\n",
      "Train AUC score 0.9162393929336535\n",
      "21850/21850 [==============================] - 11s 486us/step\n",
      "Validation AUC score 0.7441229543164154\n",
      "No change\n",
      "Epoch 17/20\n",
      "65548/65548 [==============================] - 104s 2ms/step - loss: 0.3019 - acc: 0.8690 - val_loss: 0.3913 - val_acc: 0.8547\n",
      "65548/65548 [==============================] - 32s 491us/step\n",
      "Train AUC score 0.9159499583626385\n",
      "21850/21850 [==============================] - 11s 491us/step\n",
      "Validation AUC score 0.7390430890878528\n",
      "No change\n",
      "Epoch 18/20\n",
      "65548/65548 [==============================] - 103s 2ms/step - loss: 0.3027 - acc: 0.8679 - val_loss: 0.3856 - val_acc: 0.8541\n",
      "65548/65548 [==============================] - 32s 491us/step\n",
      "Train AUC score 0.9230333545856187\n",
      "21850/21850 [==============================] - 11s 486us/step\n",
      "Validation AUC score 0.7422090488764952\n",
      "No change\n",
      "Epoch 19/20\n",
      "65548/65548 [==============================] - 104s 2ms/step - loss: 0.2802 - acc: 0.8769 - val_loss: 0.3953 - val_acc: 0.8537\n",
      "65548/65548 [==============================] - 32s 493us/step\n",
      "Train AUC score 0.9428135009841125\n",
      "21850/21850 [==============================] - 11s 491us/step\n",
      "Validation AUC score 0.7356773319619718\n",
      "No change\n",
      "Epoch 20/20\n",
      "65548/65548 [==============================] - 104s 2ms/step - loss: 0.2627 - acc: 0.8846 - val_loss: 0.4124 - val_acc: 0.8476\n",
      "65548/65548 [==============================] - 32s 491us/step\n",
      "Train AUC score 0.954581596480915\n",
      "21850/21850 [==============================] - 11s 484us/step\n",
      "Validation AUC score 0.7318444275376801\n",
      "No change\n"
     ]
    }
   ],
   "source": [
    "nn.compile(optimizer='adam',loss='binary_crossentropy',metrics=['accuracy'])\n",
    "result = nn.fit([train_sequence,other_train.reshape(65548,102,1)],y_train_new,verbose=1,epochs=20,batch_size=2048,callbacks=[tensorboard,auc_metric],validation_data=([cv_sequence,other_cv.reshape(21850,102,1)],y_cv_new))"
   ]
  },
  {
   "cell_type": "code",
   "execution_count": 18,
   "metadata": {
    "colab": {
     "base_uri": "https://localhost:8080/",
     "height": 283
    },
    "colab_type": "code",
    "id": "ep1qHwjGaXtj",
    "outputId": "156b9b33-24e0-4680-8702-38fd884316ed"
   },
   "outputs": [
    {
     "data": {
      "image/png": "[encoded data removed]",
      "text/plain": [
       "<Figure size 432x288 with 1 Axes>"
      ]
     },
     "metadata": {
      "tags": []
     },
     "output_type": "display_data"
    }
   ],
   "source": [
    "k = [i for i in range(1,len(auc_metric.cv_auc)+1)]\n",
    "plt.plot(k,auc_metric.train_auc,label=\"Train AUC\")\n",
    "plt.scatter(k,auc_metric.train_auc)\n",
    "plt.plot(k,auc_metric.cv_auc,label=\"Validation AUC\")\n",
    "plt.scatter(k,auc_metric.cv_auc)\n",
    "plt.xlabel('epochs')\n",
    "plt.ylabel('AUC')\n",
    "plt.grid()\n",
    "plt.legend()\n",
    "plt.show()"
   ]
  },
  {
   "cell_type": "code",
   "execution_count": 19,
   "metadata": {
    "colab": {
     "base_uri": "https://localhost:8080/",
     "height": 104
    },
    "colab_type": "code",
    "id": "VXeIrxQgnlw7",
    "outputId": "45023ef4-2074-422a-b66f-9900ee3f7ca1"
   },
   "outputs": [
    {
     "name": "stdout",
     "output_type": "stream",
     "text": [
      "21850/21850 [==============================] - 11s 497us/step\n",
      "21850/21850 [==============================] - 11s 492us/step\n",
      "Test Accuracy 0.8486041191513533\n",
      "Test loss 0.44320034540763437\n",
      "Test AUC 0.7636837859002282\n"
     ]
    }
   ],
   "source": [
    "nn.load_weights('Model3.pkl')\n",
    "score = nn.evaluate([test_sequence,other_test.reshape(21850,102,1)],y_test_new,verbose=1,batch_size=2048)\n",
    "y_test_hat = nn.predict([test_sequence,other_test.reshape(21850,102,1)],verbose=1,batch_size=2048)\n",
    "\n",
    "print(\"Test Accuracy\",score[1])\n",
    "print(\"Test loss\",score[0])\n",
    "print(\"Test AUC\",roc_auc_score(y_test,y_test_hat[:,1]))"
   ]
  },
  {
   "cell_type": "code",
   "execution_count": 1,
   "metadata": {
    "colab": {},
    "colab_type": "code",
    "id": "N7q-UJxLpNCn"
   },
   "outputs": [
    {
     "name": "stdout",
     "output_type": "stream",
     "text": [
      "+---------+------------+----------------+-----------+-----------+---------------+----------+\n",
      "|  Model  | Train Loss | Train Accuracy | Train AUC | Test Loss | Test Accuracy | Test AUC |\n",
      "+---------+------------+----------------+-----------+-----------+---------------+----------+\n",
      "| Model 1 |   0.2898   |     0.8486     |   0.8086  |   0.4212  |     0.8486    |  0.7521  |\n",
      "| Model 2 |   0.3673   |     0.8486     |   0.7995  |   0.441   |     0.8486    |  0.7466  |\n",
      "| Model 3 |   0.3625   |     0.8486     |   0.8088  |   0.4432  |     0.8486    |  0.7637  |\n",
      "+---------+------------+----------------+-----------+-----------+---------------+----------+\n"
     ]
    }
   ],
   "source": [
    "from prettytable import PrettyTable\n",
    "x = PrettyTable()\n",
    "x.field_names = [\"Model\",\"Train Loss\",\"Train Accuracy\",'Train AUC','Test Loss','Test Accuracy','Test AUC']\n",
    "x.add_row(['Model 1',0.2898,0.8486,0.8086,0.4212,0.8486,0.7521])\n",
    "x.add_row(['Model 2',0.3673,0.8486,0.7995,0.4410,0.8486,0.7466])\n",
    "x.add_row(['Model 3',0.3625,0.8486,0.8088,0.4432,0.8486,0.7637])\n",
    "print(x)"
   ]
  },
  {
   "cell_type": "code",
   "execution_count": null,
   "metadata": {},
   "outputs": [],
   "source": []
  }
 ],
 "metadata": {
  "accelerator": "GPU",
  "colab": {
   "collapsed_sections": [],
   "name": "Assignment 14 - LSTM",
   "provenance": [],
   "version": "0.3.2"
  },
  "kernelspec": {
   "display_name": "Python 3",
   "language": "python",
   "name": "python3"
  },
  "language_info": {
   "codemirror_mode": {
    "name": "ipython",
    "version": 3
   },
   "file_extension": ".py",
   "mimetype": "text/x-python",
   "name": "python",
   "nbconvert_exporter": "python",
   "pygments_lexer": "ipython3",
   "version": "3.6.8"
  }
 },
 "nbformat": 4,
 "nbformat_minor": 1
}
